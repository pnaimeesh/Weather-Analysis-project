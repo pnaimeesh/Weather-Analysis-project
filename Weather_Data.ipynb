{
  "nbformat": 4,
  "nbformat_minor": 0,
  "metadata": {
    "colab": {
      "name": "Weather Data.ipynb",
      "provenance": [],
      "authorship_tag": "ABX9TyMwLd1Jd/Fo4as8JbcfXb4/",
      "include_colab_link": true
    },
    "kernelspec": {
      "name": "python3",
      "display_name": "Python 3"
    },
    "language_info": {
      "name": "python"
    }
  },
  "cells": [
    {
      "cell_type": "markdown",
      "metadata": {
        "id": "view-in-github",
        "colab_type": "text"
      },
      "source": [
        "<a href=\"https://colab.research.google.com/github/pnaimeesh/Weather-Analysis-project/blob/main/Weather_Data.ipynb\" target=\"_parent\"><img src=\"https://colab.research.google.com/assets/colab-badge.svg\" alt=\"Open In Colab\"/></a>"
      ]
    },
    {
      "cell_type": "code",
      "metadata": {
        "id": "wS4Pw4D2Jupu"
      },
      "source": [
        ""
      ],
      "execution_count": null,
      "outputs": []
    },
    {
      "cell_type": "code",
      "metadata": {
        "colab": {
          "base_uri": "https://localhost:8080/"
        },
        "id": "YNyrDpIPJ0mo",
        "outputId": "6c31493c-00d3-40f6-ca66-d3820502125c"
      },
      "source": [
        "from google.colab import drive\n",
        "drive.mount('/content/drive')"
      ],
      "execution_count": null,
      "outputs": [
        {
          "output_type": "stream",
          "name": "stdout",
          "text": [
            "Mounted at /content/drive\n"
          ]
        }
      ]
    },
    {
      "cell_type": "code",
      "metadata": {
        "id": "lTnEAANwKGjN"
      },
      "source": [
        "import pandas as pd\n",
        "import numpy as np"
      ],
      "execution_count": null,
      "outputs": []
    },
    {
      "cell_type": "code",
      "metadata": {
        "id": "JqVZ0BZLa2vJ"
      },
      "source": [
        "data=pd.read_csv(\"/content/1. Weather Data.csv\")"
      ],
      "execution_count": null,
      "outputs": []
    },
    {
      "cell_type": "code",
      "metadata": {
        "colab": {
          "base_uri": "https://localhost:8080/",
          "height": 419
        },
        "id": "PxKiej03b0Wg",
        "outputId": "6905c95f-86da-429a-c04d-bd2fb9c6b7de"
      },
      "source": [
        "data"
      ],
      "execution_count": null,
      "outputs": [
        {
          "output_type": "execute_result",
          "data": {
            "text/html": [
              "<div>\n",
              "<style scoped>\n",
              "    .dataframe tbody tr th:only-of-type {\n",
              "        vertical-align: middle;\n",
              "    }\n",
              "\n",
              "    .dataframe tbody tr th {\n",
              "        vertical-align: top;\n",
              "    }\n",
              "\n",
              "    .dataframe thead th {\n",
              "        text-align: right;\n",
              "    }\n",
              "</style>\n",
              "<table border=\"1\" class=\"dataframe\">\n",
              "  <thead>\n",
              "    <tr style=\"text-align: right;\">\n",
              "      <th></th>\n",
              "      <th>Date/Time</th>\n",
              "      <th>Temp_C</th>\n",
              "      <th>Dew Point Temp_C</th>\n",
              "      <th>Rel Hum_%</th>\n",
              "      <th>Wind Speed_km/h</th>\n",
              "      <th>Visibility_km</th>\n",
              "      <th>Press_kPa</th>\n",
              "      <th>Weather</th>\n",
              "    </tr>\n",
              "  </thead>\n",
              "  <tbody>\n",
              "    <tr>\n",
              "      <th>0</th>\n",
              "      <td>1/1/2012 0:00</td>\n",
              "      <td>-1.8</td>\n",
              "      <td>-3.9</td>\n",
              "      <td>86</td>\n",
              "      <td>4</td>\n",
              "      <td>8.0</td>\n",
              "      <td>101.24</td>\n",
              "      <td>Fog</td>\n",
              "    </tr>\n",
              "    <tr>\n",
              "      <th>1</th>\n",
              "      <td>1/1/2012 1:00</td>\n",
              "      <td>-1.8</td>\n",
              "      <td>-3.7</td>\n",
              "      <td>87</td>\n",
              "      <td>4</td>\n",
              "      <td>8.0</td>\n",
              "      <td>101.24</td>\n",
              "      <td>Fog</td>\n",
              "    </tr>\n",
              "    <tr>\n",
              "      <th>2</th>\n",
              "      <td>1/1/2012 2:00</td>\n",
              "      <td>-1.8</td>\n",
              "      <td>-3.4</td>\n",
              "      <td>89</td>\n",
              "      <td>7</td>\n",
              "      <td>4.0</td>\n",
              "      <td>101.26</td>\n",
              "      <td>Freezing Drizzle,Fog</td>\n",
              "    </tr>\n",
              "    <tr>\n",
              "      <th>3</th>\n",
              "      <td>1/1/2012 3:00</td>\n",
              "      <td>-1.5</td>\n",
              "      <td>-3.2</td>\n",
              "      <td>88</td>\n",
              "      <td>6</td>\n",
              "      <td>4.0</td>\n",
              "      <td>101.27</td>\n",
              "      <td>Freezing Drizzle,Fog</td>\n",
              "    </tr>\n",
              "    <tr>\n",
              "      <th>4</th>\n",
              "      <td>1/1/2012 4:00</td>\n",
              "      <td>-1.5</td>\n",
              "      <td>-3.3</td>\n",
              "      <td>88</td>\n",
              "      <td>7</td>\n",
              "      <td>4.8</td>\n",
              "      <td>101.23</td>\n",
              "      <td>Fog</td>\n",
              "    </tr>\n",
              "    <tr>\n",
              "      <th>...</th>\n",
              "      <td>...</td>\n",
              "      <td>...</td>\n",
              "      <td>...</td>\n",
              "      <td>...</td>\n",
              "      <td>...</td>\n",
              "      <td>...</td>\n",
              "      <td>...</td>\n",
              "      <td>...</td>\n",
              "    </tr>\n",
              "    <tr>\n",
              "      <th>8779</th>\n",
              "      <td>12/31/2012 19:00</td>\n",
              "      <td>0.1</td>\n",
              "      <td>-2.7</td>\n",
              "      <td>81</td>\n",
              "      <td>30</td>\n",
              "      <td>9.7</td>\n",
              "      <td>100.13</td>\n",
              "      <td>Snow</td>\n",
              "    </tr>\n",
              "    <tr>\n",
              "      <th>8780</th>\n",
              "      <td>12/31/2012 20:00</td>\n",
              "      <td>0.2</td>\n",
              "      <td>-2.4</td>\n",
              "      <td>83</td>\n",
              "      <td>24</td>\n",
              "      <td>9.7</td>\n",
              "      <td>100.03</td>\n",
              "      <td>Snow</td>\n",
              "    </tr>\n",
              "    <tr>\n",
              "      <th>8781</th>\n",
              "      <td>12/31/2012 21:00</td>\n",
              "      <td>-0.5</td>\n",
              "      <td>-1.5</td>\n",
              "      <td>93</td>\n",
              "      <td>28</td>\n",
              "      <td>4.8</td>\n",
              "      <td>99.95</td>\n",
              "      <td>Snow</td>\n",
              "    </tr>\n",
              "    <tr>\n",
              "      <th>8782</th>\n",
              "      <td>12/31/2012 22:00</td>\n",
              "      <td>-0.2</td>\n",
              "      <td>-1.8</td>\n",
              "      <td>89</td>\n",
              "      <td>28</td>\n",
              "      <td>9.7</td>\n",
              "      <td>99.91</td>\n",
              "      <td>Snow</td>\n",
              "    </tr>\n",
              "    <tr>\n",
              "      <th>8783</th>\n",
              "      <td>12/31/2012 23:00</td>\n",
              "      <td>0.0</td>\n",
              "      <td>-2.1</td>\n",
              "      <td>86</td>\n",
              "      <td>30</td>\n",
              "      <td>11.3</td>\n",
              "      <td>99.89</td>\n",
              "      <td>Snow</td>\n",
              "    </tr>\n",
              "  </tbody>\n",
              "</table>\n",
              "<p>8784 rows × 8 columns</p>\n",
              "</div>"
            ],
            "text/plain": [
              "             Date/Time  Temp_C  ...  Press_kPa               Weather\n",
              "0        1/1/2012 0:00    -1.8  ...     101.24                   Fog\n",
              "1        1/1/2012 1:00    -1.8  ...     101.24                   Fog\n",
              "2        1/1/2012 2:00    -1.8  ...     101.26  Freezing Drizzle,Fog\n",
              "3        1/1/2012 3:00    -1.5  ...     101.27  Freezing Drizzle,Fog\n",
              "4        1/1/2012 4:00    -1.5  ...     101.23                   Fog\n",
              "...                ...     ...  ...        ...                   ...\n",
              "8779  12/31/2012 19:00     0.1  ...     100.13                  Snow\n",
              "8780  12/31/2012 20:00     0.2  ...     100.03                  Snow\n",
              "8781  12/31/2012 21:00    -0.5  ...      99.95                  Snow\n",
              "8782  12/31/2012 22:00    -0.2  ...      99.91                  Snow\n",
              "8783  12/31/2012 23:00     0.0  ...      99.89                  Snow\n",
              "\n",
              "[8784 rows x 8 columns]"
            ]
          },
          "metadata": {},
          "execution_count": 57
        }
      ]
    },
    {
      "cell_type": "code",
      "metadata": {
        "colab": {
          "base_uri": "https://localhost:8080/",
          "height": 204
        },
        "id": "nzfaeS7ccHYl",
        "outputId": "4720ad6d-985a-4503-f296-5971d2752849"
      },
      "source": [
        "data.head() #First five rows of data"
      ],
      "execution_count": null,
      "outputs": [
        {
          "output_type": "execute_result",
          "data": {
            "text/html": [
              "<div>\n",
              "<style scoped>\n",
              "    .dataframe tbody tr th:only-of-type {\n",
              "        vertical-align: middle;\n",
              "    }\n",
              "\n",
              "    .dataframe tbody tr th {\n",
              "        vertical-align: top;\n",
              "    }\n",
              "\n",
              "    .dataframe thead th {\n",
              "        text-align: right;\n",
              "    }\n",
              "</style>\n",
              "<table border=\"1\" class=\"dataframe\">\n",
              "  <thead>\n",
              "    <tr style=\"text-align: right;\">\n",
              "      <th></th>\n",
              "      <th>Date/Time</th>\n",
              "      <th>Temp_C</th>\n",
              "      <th>Dew Point Temp_C</th>\n",
              "      <th>Rel Hum_%</th>\n",
              "      <th>Wind Speed_km/h</th>\n",
              "      <th>Visibility_km</th>\n",
              "      <th>Press_kPa</th>\n",
              "      <th>Weather</th>\n",
              "    </tr>\n",
              "  </thead>\n",
              "  <tbody>\n",
              "    <tr>\n",
              "      <th>0</th>\n",
              "      <td>1/1/2012 0:00</td>\n",
              "      <td>-1.8</td>\n",
              "      <td>-3.9</td>\n",
              "      <td>86</td>\n",
              "      <td>4</td>\n",
              "      <td>8.0</td>\n",
              "      <td>101.24</td>\n",
              "      <td>Fog</td>\n",
              "    </tr>\n",
              "    <tr>\n",
              "      <th>1</th>\n",
              "      <td>1/1/2012 1:00</td>\n",
              "      <td>-1.8</td>\n",
              "      <td>-3.7</td>\n",
              "      <td>87</td>\n",
              "      <td>4</td>\n",
              "      <td>8.0</td>\n",
              "      <td>101.24</td>\n",
              "      <td>Fog</td>\n",
              "    </tr>\n",
              "    <tr>\n",
              "      <th>2</th>\n",
              "      <td>1/1/2012 2:00</td>\n",
              "      <td>-1.8</td>\n",
              "      <td>-3.4</td>\n",
              "      <td>89</td>\n",
              "      <td>7</td>\n",
              "      <td>4.0</td>\n",
              "      <td>101.26</td>\n",
              "      <td>Freezing Drizzle,Fog</td>\n",
              "    </tr>\n",
              "    <tr>\n",
              "      <th>3</th>\n",
              "      <td>1/1/2012 3:00</td>\n",
              "      <td>-1.5</td>\n",
              "      <td>-3.2</td>\n",
              "      <td>88</td>\n",
              "      <td>6</td>\n",
              "      <td>4.0</td>\n",
              "      <td>101.27</td>\n",
              "      <td>Freezing Drizzle,Fog</td>\n",
              "    </tr>\n",
              "    <tr>\n",
              "      <th>4</th>\n",
              "      <td>1/1/2012 4:00</td>\n",
              "      <td>-1.5</td>\n",
              "      <td>-3.3</td>\n",
              "      <td>88</td>\n",
              "      <td>7</td>\n",
              "      <td>4.8</td>\n",
              "      <td>101.23</td>\n",
              "      <td>Fog</td>\n",
              "    </tr>\n",
              "  </tbody>\n",
              "</table>\n",
              "</div>"
            ],
            "text/plain": [
              "       Date/Time  Temp_C  ...  Press_kPa               Weather\n",
              "0  1/1/2012 0:00    -1.8  ...     101.24                   Fog\n",
              "1  1/1/2012 1:00    -1.8  ...     101.24                   Fog\n",
              "2  1/1/2012 2:00    -1.8  ...     101.26  Freezing Drizzle,Fog\n",
              "3  1/1/2012 3:00    -1.5  ...     101.27  Freezing Drizzle,Fog\n",
              "4  1/1/2012 4:00    -1.5  ...     101.23                   Fog\n",
              "\n",
              "[5 rows x 8 columns]"
            ]
          },
          "metadata": {},
          "execution_count": 58
        }
      ]
    },
    {
      "cell_type": "code",
      "metadata": {
        "colab": {
          "base_uri": "https://localhost:8080/"
        },
        "id": "MDxediCQcT98",
        "outputId": "562d4d15-9724-4619-9380-ae426e1495fb"
      },
      "source": [
        "data.shape #total number of rows and columns "
      ],
      "execution_count": null,
      "outputs": [
        {
          "output_type": "execute_result",
          "data": {
            "text/plain": [
              "(8784, 8)"
            ]
          },
          "metadata": {},
          "execution_count": 59
        }
      ]
    },
    {
      "cell_type": "code",
      "metadata": {
        "colab": {
          "base_uri": "https://localhost:8080/"
        },
        "id": "7GO3O5aZcYS-",
        "outputId": "bff00c2d-0de5-47f8-dc3c-b7900219cdf1"
      },
      "source": [
        "data.index "
      ],
      "execution_count": null,
      "outputs": [
        {
          "output_type": "execute_result",
          "data": {
            "text/plain": [
              "RangeIndex(start=0, stop=8784, step=1)"
            ]
          },
          "metadata": {},
          "execution_count": 60
        }
      ]
    },
    {
      "cell_type": "code",
      "metadata": {
        "colab": {
          "base_uri": "https://localhost:8080/"
        },
        "id": "ZN31aNFEceFR",
        "outputId": "a58b878c-d8ec-4387-9043-c8b611e6f209"
      },
      "source": [
        "data.columns"
      ],
      "execution_count": null,
      "outputs": [
        {
          "output_type": "execute_result",
          "data": {
            "text/plain": [
              "Index(['Date/Time', 'Temp_C', 'Dew Point Temp_C', 'Rel Hum_%',\n",
              "       'Wind Speed_km/h', 'Visibility_km', 'Press_kPa', 'Weather'],\n",
              "      dtype='object')"
            ]
          },
          "metadata": {},
          "execution_count": 61
        }
      ]
    },
    {
      "cell_type": "code",
      "metadata": {
        "colab": {
          "base_uri": "https://localhost:8080/"
        },
        "id": "AaBdw-EFcjW3",
        "outputId": "e30e195c-1087-4c2c-e0e2-9df4551c86c3"
      },
      "source": [
        "data.dtypes"
      ],
      "execution_count": null,
      "outputs": [
        {
          "output_type": "execute_result",
          "data": {
            "text/plain": [
              "Date/Time            object\n",
              "Temp_C              float64\n",
              "Dew Point Temp_C    float64\n",
              "Rel Hum_%             int64\n",
              "Wind Speed_km/h       int64\n",
              "Visibility_km       float64\n",
              "Press_kPa           float64\n",
              "Weather              object\n",
              "dtype: object"
            ]
          },
          "metadata": {},
          "execution_count": 62
        }
      ]
    },
    {
      "cell_type": "code",
      "metadata": {
        "colab": {
          "base_uri": "https://localhost:8080/"
        },
        "id": "ZSIaWCf5cmWc",
        "outputId": "c2e516bd-2a8f-46a8-da2b-a9b710846c61"
      },
      "source": [
        "data[\"Weather\"].unique() #can be applied to only one column"
      ],
      "execution_count": null,
      "outputs": [
        {
          "output_type": "execute_result",
          "data": {
            "text/plain": [
              "array(['Fog', 'Freezing Drizzle,Fog', 'Mostly Cloudy', 'Cloudy', 'Rain',\n",
              "       'Rain Showers', 'Mainly Clear', 'Snow Showers', 'Snow', 'Clear',\n",
              "       'Freezing Rain,Fog', 'Freezing Rain', 'Freezing Drizzle',\n",
              "       'Rain,Snow', 'Moderate Snow', 'Freezing Drizzle,Snow',\n",
              "       'Freezing Rain,Snow Grains', 'Snow,Blowing Snow', 'Freezing Fog',\n",
              "       'Haze', 'Rain,Fog', 'Drizzle,Fog', 'Drizzle',\n",
              "       'Freezing Drizzle,Haze', 'Freezing Rain,Haze', 'Snow,Haze',\n",
              "       'Snow,Fog', 'Snow,Ice Pellets', 'Rain,Haze', 'Thunderstorms,Rain',\n",
              "       'Thunderstorms,Rain Showers', 'Thunderstorms,Heavy Rain Showers',\n",
              "       'Thunderstorms,Rain Showers,Fog', 'Thunderstorms',\n",
              "       'Thunderstorms,Rain,Fog',\n",
              "       'Thunderstorms,Moderate Rain Showers,Fog', 'Rain Showers,Fog',\n",
              "       'Rain Showers,Snow Showers', 'Snow Pellets', 'Rain,Snow,Fog',\n",
              "       'Moderate Rain,Fog', 'Freezing Rain,Ice Pellets,Fog',\n",
              "       'Drizzle,Ice Pellets,Fog', 'Drizzle,Snow', 'Rain,Ice Pellets',\n",
              "       'Drizzle,Snow,Fog', 'Rain,Snow Grains', 'Rain,Snow,Ice Pellets',\n",
              "       'Snow Showers,Fog', 'Moderate Snow,Blowing Snow'], dtype=object)"
            ]
          },
          "metadata": {},
          "execution_count": 63
        }
      ]
    },
    {
      "cell_type": "code",
      "metadata": {
        "colab": {
          "base_uri": "https://localhost:8080/"
        },
        "id": "mhTVgvwIcqQw",
        "outputId": "1d0fc885-58ce-4aa7-934c-e4e02ad70253"
      },
      "source": [
        "data.nunique() #can be applied on whole program or one column"
      ],
      "execution_count": null,
      "outputs": [
        {
          "output_type": "execute_result",
          "data": {
            "text/plain": [
              "Date/Time           8784\n",
              "Temp_C               533\n",
              "Dew Point Temp_C     489\n",
              "Rel Hum_%             83\n",
              "Wind Speed_km/h       34\n",
              "Visibility_km         24\n",
              "Press_kPa            518\n",
              "Weather               50\n",
              "dtype: int64"
            ]
          },
          "metadata": {},
          "execution_count": 64
        }
      ]
    },
    {
      "cell_type": "code",
      "metadata": {
        "colab": {
          "base_uri": "https://localhost:8080/"
        },
        "id": "jAH-FNs9cujN",
        "outputId": "14cf0247-b643-41e9-f7d2-08c940dfd970"
      },
      "source": [
        "data.count()"
      ],
      "execution_count": null,
      "outputs": [
        {
          "output_type": "execute_result",
          "data": {
            "text/plain": [
              "Date/Time           8784\n",
              "Temp_C              8784\n",
              "Dew Point Temp_C    8784\n",
              "Rel Hum_%           8784\n",
              "Wind Speed_km/h     8784\n",
              "Visibility_km       8784\n",
              "Press_kPa           8784\n",
              "Weather             8784\n",
              "dtype: int64"
            ]
          },
          "metadata": {},
          "execution_count": 66
        }
      ]
    },
    {
      "cell_type": "code",
      "metadata": {
        "colab": {
          "base_uri": "https://localhost:8080/"
        },
        "id": "PVUaK_5PcxMC",
        "outputId": "0d7e1706-b9f0-4523-84ed-3321c8dc3d8d"
      },
      "source": [
        "data[\"Weather\"].value_counts()"
      ],
      "execution_count": null,
      "outputs": [
        {
          "output_type": "execute_result",
          "data": {
            "text/plain": [
              "Mainly Clear                               2106\n",
              "Mostly Cloudy                              2069\n",
              "Cloudy                                     1728\n",
              "Clear                                      1326\n",
              "Snow                                        390\n",
              "Rain                                        306\n",
              "Rain Showers                                188\n",
              "Fog                                         150\n",
              "Rain,Fog                                    116\n",
              "Drizzle,Fog                                  80\n",
              "Snow Showers                                 60\n",
              "Drizzle                                      41\n",
              "Snow,Fog                                     37\n",
              "Snow,Blowing Snow                            19\n",
              "Rain,Snow                                    18\n",
              "Haze                                         16\n",
              "Thunderstorms,Rain Showers                   16\n",
              "Drizzle,Snow,Fog                             15\n",
              "Freezing Rain                                14\n",
              "Freezing Drizzle,Snow                        11\n",
              "Freezing Drizzle                              7\n",
              "Freezing Drizzle,Fog                          6\n",
              "Snow,Ice Pellets                              6\n",
              "Snow,Haze                                     5\n",
              "Snow Showers,Fog                              4\n",
              "Rain,Snow,Ice Pellets                         4\n",
              "Freezing Fog                                  4\n",
              "Freezing Rain,Fog                             4\n",
              "Moderate Snow                                 4\n",
              "Thunderstorms,Rain                            3\n",
              "Thunderstorms,Rain Showers,Fog                3\n",
              "Rain,Haze                                     3\n",
              "Freezing Drizzle,Haze                         3\n",
              "Drizzle,Snow                                  2\n",
              "Moderate Snow,Blowing Snow                    2\n",
              "Freezing Rain,Haze                            2\n",
              "Rain Showers,Snow Showers                     2\n",
              "Thunderstorms                                 2\n",
              "Drizzle,Ice Pellets,Fog                       1\n",
              "Rain,Snow Grains                              1\n",
              "Thunderstorms,Rain,Fog                        1\n",
              "Freezing Rain,Ice Pellets,Fog                 1\n",
              "Rain Showers,Fog                              1\n",
              "Moderate Rain,Fog                             1\n",
              "Rain,Ice Pellets                              1\n",
              "Thunderstorms,Heavy Rain Showers              1\n",
              "Rain,Snow,Fog                                 1\n",
              "Freezing Rain,Snow Grains                     1\n",
              "Snow Pellets                                  1\n",
              "Thunderstorms,Moderate Rain Showers,Fog       1\n",
              "Name: Weather, dtype: int64"
            ]
          },
          "metadata": {},
          "execution_count": 67
        }
      ]
    },
    {
      "cell_type": "code",
      "metadata": {
        "colab": {
          "base_uri": "https://localhost:8080/"
        },
        "id": "GgI0YRNDc0rR",
        "outputId": "26ae7bd6-7984-41a3-ad89-151e0cb524c8"
      },
      "source": [
        "data.info()"
      ],
      "execution_count": null,
      "outputs": [
        {
          "output_type": "stream",
          "name": "stdout",
          "text": [
            "<class 'pandas.core.frame.DataFrame'>\n",
            "RangeIndex: 8784 entries, 0 to 8783\n",
            "Data columns (total 8 columns):\n",
            " #   Column            Non-Null Count  Dtype  \n",
            "---  ------            --------------  -----  \n",
            " 0   Date/Time         8784 non-null   object \n",
            " 1   Temp_C            8784 non-null   float64\n",
            " 2   Dew Point Temp_C  8784 non-null   float64\n",
            " 3   Rel Hum_%         8784 non-null   int64  \n",
            " 4   Wind Speed_km/h   8784 non-null   int64  \n",
            " 5   Visibility_km     8784 non-null   float64\n",
            " 6   Press_kPa         8784 non-null   float64\n",
            " 7   Weather           8784 non-null   object \n",
            "dtypes: float64(4), int64(2), object(2)\n",
            "memory usage: 549.1+ KB\n"
          ]
        }
      ]
    },
    {
      "cell_type": "code",
      "metadata": {
        "colab": {
          "base_uri": "https://localhost:8080/"
        },
        "id": "Xg0Y7MTXc3on",
        "outputId": "cd2f0db8-1725-49df-97ba-ef1d896c45a7"
      },
      "source": [
        "data.nunique()   # for finding unique values in wind speed column"
      ],
      "execution_count": null,
      "outputs": [
        {
          "output_type": "execute_result",
          "data": {
            "text/plain": [
              "Date/Time           8784\n",
              "Temp_C               533\n",
              "Dew Point Temp_C     489\n",
              "Rel Hum_%             83\n",
              "Wind Speed_km/h       34\n",
              "Visibility_km         24\n",
              "Press_kPa            518\n",
              "Weather               50\n",
              "dtype: int64"
            ]
          },
          "metadata": {},
          "execution_count": 69
        }
      ]
    },
    {
      "cell_type": "code",
      "metadata": {
        "colab": {
          "base_uri": "https://localhost:8080/"
        },
        "id": "masL1lkIc68W",
        "outputId": "6788b86a-165d-4e50-c3b8-6c615c62d8ee"
      },
      "source": [
        "data[\"Wind Speed_km/h\"].nunique()"
      ],
      "execution_count": null,
      "outputs": [
        {
          "output_type": "execute_result",
          "data": {
            "text/plain": [
              "34"
            ]
          },
          "metadata": {},
          "execution_count": 70
        }
      ]
    },
    {
      "cell_type": "code",
      "metadata": {
        "id": "R4MWnfrUdHWE"
      },
      "source": [
        "#To find number of times when the weather is exactly clear"
      ],
      "execution_count": null,
      "outputs": []
    },
    {
      "cell_type": "code",
      "metadata": {
        "colab": {
          "base_uri": "https://localhost:8080/",
          "height": 111
        },
        "id": "ho9Z7y8kdIHa",
        "outputId": "511473d7-ef43-4da2-9b08-387cfb751d07"
      },
      "source": [
        "data.head(2)"
      ],
      "execution_count": null,
      "outputs": [
        {
          "output_type": "execute_result",
          "data": {
            "text/html": [
              "<div>\n",
              "<style scoped>\n",
              "    .dataframe tbody tr th:only-of-type {\n",
              "        vertical-align: middle;\n",
              "    }\n",
              "\n",
              "    .dataframe tbody tr th {\n",
              "        vertical-align: top;\n",
              "    }\n",
              "\n",
              "    .dataframe thead th {\n",
              "        text-align: right;\n",
              "    }\n",
              "</style>\n",
              "<table border=\"1\" class=\"dataframe\">\n",
              "  <thead>\n",
              "    <tr style=\"text-align: right;\">\n",
              "      <th></th>\n",
              "      <th>Date/Time</th>\n",
              "      <th>Temp_C</th>\n",
              "      <th>Dew Point Temp_C</th>\n",
              "      <th>Rel Hum_%</th>\n",
              "      <th>Wind Speed_km/h</th>\n",
              "      <th>Visibility_km</th>\n",
              "      <th>Press_kPa</th>\n",
              "      <th>Weather</th>\n",
              "    </tr>\n",
              "  </thead>\n",
              "  <tbody>\n",
              "    <tr>\n",
              "      <th>0</th>\n",
              "      <td>1/1/2012 0:00</td>\n",
              "      <td>-1.8</td>\n",
              "      <td>-3.9</td>\n",
              "      <td>86</td>\n",
              "      <td>4</td>\n",
              "      <td>8.0</td>\n",
              "      <td>101.24</td>\n",
              "      <td>Fog</td>\n",
              "    </tr>\n",
              "    <tr>\n",
              "      <th>1</th>\n",
              "      <td>1/1/2012 1:00</td>\n",
              "      <td>-1.8</td>\n",
              "      <td>-3.7</td>\n",
              "      <td>87</td>\n",
              "      <td>4</td>\n",
              "      <td>8.0</td>\n",
              "      <td>101.24</td>\n",
              "      <td>Fog</td>\n",
              "    </tr>\n",
              "  </tbody>\n",
              "</table>\n",
              "</div>"
            ],
            "text/plain": [
              "       Date/Time  Temp_C  Dew Point Temp_C  ...  Visibility_km  Press_kPa  Weather\n",
              "0  1/1/2012 0:00    -1.8              -3.9  ...            8.0     101.24      Fog\n",
              "1  1/1/2012 1:00    -1.8              -3.7  ...            8.0     101.24      Fog\n",
              "\n",
              "[2 rows x 8 columns]"
            ]
          },
          "metadata": {},
          "execution_count": 71
        }
      ]
    },
    {
      "cell_type": "code",
      "metadata": {
        "colab": {
          "base_uri": "https://localhost:8080/"
        },
        "id": "11bmSfxhdMQo",
        "outputId": "cd1396b5-7ada-4c66-b348-451a84b68819"
      },
      "source": [
        "data.Weather.value_counts()"
      ],
      "execution_count": null,
      "outputs": [
        {
          "output_type": "execute_result",
          "data": {
            "text/plain": [
              "Mainly Clear                               2106\n",
              "Mostly Cloudy                              2069\n",
              "Cloudy                                     1728\n",
              "Clear                                      1326\n",
              "Snow                                        390\n",
              "Rain                                        306\n",
              "Rain Showers                                188\n",
              "Fog                                         150\n",
              "Rain,Fog                                    116\n",
              "Drizzle,Fog                                  80\n",
              "Snow Showers                                 60\n",
              "Drizzle                                      41\n",
              "Snow,Fog                                     37\n",
              "Snow,Blowing Snow                            19\n",
              "Rain,Snow                                    18\n",
              "Haze                                         16\n",
              "Thunderstorms,Rain Showers                   16\n",
              "Drizzle,Snow,Fog                             15\n",
              "Freezing Rain                                14\n",
              "Freezing Drizzle,Snow                        11\n",
              "Freezing Drizzle                              7\n",
              "Freezing Drizzle,Fog                          6\n",
              "Snow,Ice Pellets                              6\n",
              "Snow,Haze                                     5\n",
              "Snow Showers,Fog                              4\n",
              "Rain,Snow,Ice Pellets                         4\n",
              "Freezing Fog                                  4\n",
              "Freezing Rain,Fog                             4\n",
              "Moderate Snow                                 4\n",
              "Thunderstorms,Rain                            3\n",
              "Thunderstorms,Rain Showers,Fog                3\n",
              "Rain,Haze                                     3\n",
              "Freezing Drizzle,Haze                         3\n",
              "Drizzle,Snow                                  2\n",
              "Moderate Snow,Blowing Snow                    2\n",
              "Freezing Rain,Haze                            2\n",
              "Rain Showers,Snow Showers                     2\n",
              "Thunderstorms                                 2\n",
              "Drizzle,Ice Pellets,Fog                       1\n",
              "Rain,Snow Grains                              1\n",
              "Thunderstorms,Rain,Fog                        1\n",
              "Freezing Rain,Ice Pellets,Fog                 1\n",
              "Rain Showers,Fog                              1\n",
              "Moderate Rain,Fog                             1\n",
              "Rain,Ice Pellets                              1\n",
              "Thunderstorms,Heavy Rain Showers              1\n",
              "Rain,Snow,Fog                                 1\n",
              "Freezing Rain,Snow Grains                     1\n",
              "Snow Pellets                                  1\n",
              "Thunderstorms,Moderate Rain Showers,Fog       1\n",
              "Name: Weather, dtype: int64"
            ]
          },
          "metadata": {},
          "execution_count": 72
        }
      ]
    },
    {
      "cell_type": "code",
      "metadata": {
        "colab": {
          "base_uri": "https://localhost:8080/",
          "height": 419
        },
        "id": "uKcXBig5dRE2",
        "outputId": "9e2689cc-b712-4bec-ca84-bedb1e669e73"
      },
      "source": [
        "data.head(2)\n",
        "data[data.Weather == 'Clear']"
      ],
      "execution_count": null,
      "outputs": [
        {
          "output_type": "execute_result",
          "data": {
            "text/html": [
              "<div>\n",
              "<style scoped>\n",
              "    .dataframe tbody tr th:only-of-type {\n",
              "        vertical-align: middle;\n",
              "    }\n",
              "\n",
              "    .dataframe tbody tr th {\n",
              "        vertical-align: top;\n",
              "    }\n",
              "\n",
              "    .dataframe thead th {\n",
              "        text-align: right;\n",
              "    }\n",
              "</style>\n",
              "<table border=\"1\" class=\"dataframe\">\n",
              "  <thead>\n",
              "    <tr style=\"text-align: right;\">\n",
              "      <th></th>\n",
              "      <th>Date/Time</th>\n",
              "      <th>Temp_C</th>\n",
              "      <th>Dew Point Temp_C</th>\n",
              "      <th>Rel Hum_%</th>\n",
              "      <th>Wind Speed_km/h</th>\n",
              "      <th>Visibility_km</th>\n",
              "      <th>Press_kPa</th>\n",
              "      <th>Weather</th>\n",
              "    </tr>\n",
              "  </thead>\n",
              "  <tbody>\n",
              "    <tr>\n",
              "      <th>67</th>\n",
              "      <td>1/3/2012 19:00</td>\n",
              "      <td>-16.9</td>\n",
              "      <td>-24.8</td>\n",
              "      <td>50</td>\n",
              "      <td>24</td>\n",
              "      <td>25.0</td>\n",
              "      <td>101.74</td>\n",
              "      <td>Clear</td>\n",
              "    </tr>\n",
              "    <tr>\n",
              "      <th>114</th>\n",
              "      <td>1/5/2012 18:00</td>\n",
              "      <td>-7.1</td>\n",
              "      <td>-14.4</td>\n",
              "      <td>56</td>\n",
              "      <td>11</td>\n",
              "      <td>25.0</td>\n",
              "      <td>100.71</td>\n",
              "      <td>Clear</td>\n",
              "    </tr>\n",
              "    <tr>\n",
              "      <th>115</th>\n",
              "      <td>1/5/2012 19:00</td>\n",
              "      <td>-9.2</td>\n",
              "      <td>-15.4</td>\n",
              "      <td>61</td>\n",
              "      <td>7</td>\n",
              "      <td>25.0</td>\n",
              "      <td>100.80</td>\n",
              "      <td>Clear</td>\n",
              "    </tr>\n",
              "    <tr>\n",
              "      <th>116</th>\n",
              "      <td>1/5/2012 20:00</td>\n",
              "      <td>-9.8</td>\n",
              "      <td>-15.7</td>\n",
              "      <td>62</td>\n",
              "      <td>9</td>\n",
              "      <td>25.0</td>\n",
              "      <td>100.83</td>\n",
              "      <td>Clear</td>\n",
              "    </tr>\n",
              "    <tr>\n",
              "      <th>117</th>\n",
              "      <td>1/5/2012 21:00</td>\n",
              "      <td>-9.0</td>\n",
              "      <td>-14.8</td>\n",
              "      <td>63</td>\n",
              "      <td>13</td>\n",
              "      <td>25.0</td>\n",
              "      <td>100.83</td>\n",
              "      <td>Clear</td>\n",
              "    </tr>\n",
              "    <tr>\n",
              "      <th>...</th>\n",
              "      <td>...</td>\n",
              "      <td>...</td>\n",
              "      <td>...</td>\n",
              "      <td>...</td>\n",
              "      <td>...</td>\n",
              "      <td>...</td>\n",
              "      <td>...</td>\n",
              "      <td>...</td>\n",
              "    </tr>\n",
              "    <tr>\n",
              "      <th>8646</th>\n",
              "      <td>12/26/2012 6:00</td>\n",
              "      <td>-13.4</td>\n",
              "      <td>-14.8</td>\n",
              "      <td>89</td>\n",
              "      <td>4</td>\n",
              "      <td>25.0</td>\n",
              "      <td>102.47</td>\n",
              "      <td>Clear</td>\n",
              "    </tr>\n",
              "    <tr>\n",
              "      <th>8698</th>\n",
              "      <td>12/28/2012 10:00</td>\n",
              "      <td>-6.1</td>\n",
              "      <td>-8.6</td>\n",
              "      <td>82</td>\n",
              "      <td>19</td>\n",
              "      <td>24.1</td>\n",
              "      <td>101.27</td>\n",
              "      <td>Clear</td>\n",
              "    </tr>\n",
              "    <tr>\n",
              "      <th>8713</th>\n",
              "      <td>12/29/2012 1:00</td>\n",
              "      <td>-11.9</td>\n",
              "      <td>-13.6</td>\n",
              "      <td>87</td>\n",
              "      <td>11</td>\n",
              "      <td>25.0</td>\n",
              "      <td>101.31</td>\n",
              "      <td>Clear</td>\n",
              "    </tr>\n",
              "    <tr>\n",
              "      <th>8714</th>\n",
              "      <td>12/29/2012 2:00</td>\n",
              "      <td>-11.8</td>\n",
              "      <td>-13.1</td>\n",
              "      <td>90</td>\n",
              "      <td>13</td>\n",
              "      <td>25.0</td>\n",
              "      <td>101.33</td>\n",
              "      <td>Clear</td>\n",
              "    </tr>\n",
              "    <tr>\n",
              "      <th>8756</th>\n",
              "      <td>12/30/2012 20:00</td>\n",
              "      <td>-13.8</td>\n",
              "      <td>-16.5</td>\n",
              "      <td>80</td>\n",
              "      <td>24</td>\n",
              "      <td>25.0</td>\n",
              "      <td>101.52</td>\n",
              "      <td>Clear</td>\n",
              "    </tr>\n",
              "  </tbody>\n",
              "</table>\n",
              "<p>1326 rows × 8 columns</p>\n",
              "</div>"
            ],
            "text/plain": [
              "             Date/Time  Temp_C  ...  Press_kPa  Weather\n",
              "67      1/3/2012 19:00   -16.9  ...     101.74    Clear\n",
              "114     1/5/2012 18:00    -7.1  ...     100.71    Clear\n",
              "115     1/5/2012 19:00    -9.2  ...     100.80    Clear\n",
              "116     1/5/2012 20:00    -9.8  ...     100.83    Clear\n",
              "117     1/5/2012 21:00    -9.0  ...     100.83    Clear\n",
              "...                ...     ...  ...        ...      ...\n",
              "8646   12/26/2012 6:00   -13.4  ...     102.47    Clear\n",
              "8698  12/28/2012 10:00    -6.1  ...     101.27    Clear\n",
              "8713   12/29/2012 1:00   -11.9  ...     101.31    Clear\n",
              "8714   12/29/2012 2:00   -11.8  ...     101.33    Clear\n",
              "8756  12/30/2012 20:00   -13.8  ...     101.52    Clear\n",
              "\n",
              "[1326 rows x 8 columns]"
            ]
          },
          "metadata": {},
          "execution_count": 73
        }
      ]
    },
    {
      "cell_type": "code",
      "metadata": {
        "colab": {
          "base_uri": "https://localhost:8080/",
          "height": 419
        },
        "id": "0FbjmcfxdVjK",
        "outputId": "55f73524-bdfe-4a32-b670-e72d830c30b1"
      },
      "source": [
        "data.groupby('Weather').get_group('Clear')"
      ],
      "execution_count": null,
      "outputs": [
        {
          "output_type": "execute_result",
          "data": {
            "text/html": [
              "<div>\n",
              "<style scoped>\n",
              "    .dataframe tbody tr th:only-of-type {\n",
              "        vertical-align: middle;\n",
              "    }\n",
              "\n",
              "    .dataframe tbody tr th {\n",
              "        vertical-align: top;\n",
              "    }\n",
              "\n",
              "    .dataframe thead th {\n",
              "        text-align: right;\n",
              "    }\n",
              "</style>\n",
              "<table border=\"1\" class=\"dataframe\">\n",
              "  <thead>\n",
              "    <tr style=\"text-align: right;\">\n",
              "      <th></th>\n",
              "      <th>Date/Time</th>\n",
              "      <th>Temp_C</th>\n",
              "      <th>Dew Point Temp_C</th>\n",
              "      <th>Rel Hum_%</th>\n",
              "      <th>Wind Speed_km/h</th>\n",
              "      <th>Visibility_km</th>\n",
              "      <th>Press_kPa</th>\n",
              "      <th>Weather</th>\n",
              "    </tr>\n",
              "  </thead>\n",
              "  <tbody>\n",
              "    <tr>\n",
              "      <th>67</th>\n",
              "      <td>1/3/2012 19:00</td>\n",
              "      <td>-16.9</td>\n",
              "      <td>-24.8</td>\n",
              "      <td>50</td>\n",
              "      <td>24</td>\n",
              "      <td>25.0</td>\n",
              "      <td>101.74</td>\n",
              "      <td>Clear</td>\n",
              "    </tr>\n",
              "    <tr>\n",
              "      <th>114</th>\n",
              "      <td>1/5/2012 18:00</td>\n",
              "      <td>-7.1</td>\n",
              "      <td>-14.4</td>\n",
              "      <td>56</td>\n",
              "      <td>11</td>\n",
              "      <td>25.0</td>\n",
              "      <td>100.71</td>\n",
              "      <td>Clear</td>\n",
              "    </tr>\n",
              "    <tr>\n",
              "      <th>115</th>\n",
              "      <td>1/5/2012 19:00</td>\n",
              "      <td>-9.2</td>\n",
              "      <td>-15.4</td>\n",
              "      <td>61</td>\n",
              "      <td>7</td>\n",
              "      <td>25.0</td>\n",
              "      <td>100.80</td>\n",
              "      <td>Clear</td>\n",
              "    </tr>\n",
              "    <tr>\n",
              "      <th>116</th>\n",
              "      <td>1/5/2012 20:00</td>\n",
              "      <td>-9.8</td>\n",
              "      <td>-15.7</td>\n",
              "      <td>62</td>\n",
              "      <td>9</td>\n",
              "      <td>25.0</td>\n",
              "      <td>100.83</td>\n",
              "      <td>Clear</td>\n",
              "    </tr>\n",
              "    <tr>\n",
              "      <th>117</th>\n",
              "      <td>1/5/2012 21:00</td>\n",
              "      <td>-9.0</td>\n",
              "      <td>-14.8</td>\n",
              "      <td>63</td>\n",
              "      <td>13</td>\n",
              "      <td>25.0</td>\n",
              "      <td>100.83</td>\n",
              "      <td>Clear</td>\n",
              "    </tr>\n",
              "    <tr>\n",
              "      <th>...</th>\n",
              "      <td>...</td>\n",
              "      <td>...</td>\n",
              "      <td>...</td>\n",
              "      <td>...</td>\n",
              "      <td>...</td>\n",
              "      <td>...</td>\n",
              "      <td>...</td>\n",
              "      <td>...</td>\n",
              "    </tr>\n",
              "    <tr>\n",
              "      <th>8646</th>\n",
              "      <td>12/26/2012 6:00</td>\n",
              "      <td>-13.4</td>\n",
              "      <td>-14.8</td>\n",
              "      <td>89</td>\n",
              "      <td>4</td>\n",
              "      <td>25.0</td>\n",
              "      <td>102.47</td>\n",
              "      <td>Clear</td>\n",
              "    </tr>\n",
              "    <tr>\n",
              "      <th>8698</th>\n",
              "      <td>12/28/2012 10:00</td>\n",
              "      <td>-6.1</td>\n",
              "      <td>-8.6</td>\n",
              "      <td>82</td>\n",
              "      <td>19</td>\n",
              "      <td>24.1</td>\n",
              "      <td>101.27</td>\n",
              "      <td>Clear</td>\n",
              "    </tr>\n",
              "    <tr>\n",
              "      <th>8713</th>\n",
              "      <td>12/29/2012 1:00</td>\n",
              "      <td>-11.9</td>\n",
              "      <td>-13.6</td>\n",
              "      <td>87</td>\n",
              "      <td>11</td>\n",
              "      <td>25.0</td>\n",
              "      <td>101.31</td>\n",
              "      <td>Clear</td>\n",
              "    </tr>\n",
              "    <tr>\n",
              "      <th>8714</th>\n",
              "      <td>12/29/2012 2:00</td>\n",
              "      <td>-11.8</td>\n",
              "      <td>-13.1</td>\n",
              "      <td>90</td>\n",
              "      <td>13</td>\n",
              "      <td>25.0</td>\n",
              "      <td>101.33</td>\n",
              "      <td>Clear</td>\n",
              "    </tr>\n",
              "    <tr>\n",
              "      <th>8756</th>\n",
              "      <td>12/30/2012 20:00</td>\n",
              "      <td>-13.8</td>\n",
              "      <td>-16.5</td>\n",
              "      <td>80</td>\n",
              "      <td>24</td>\n",
              "      <td>25.0</td>\n",
              "      <td>101.52</td>\n",
              "      <td>Clear</td>\n",
              "    </tr>\n",
              "  </tbody>\n",
              "</table>\n",
              "<p>1326 rows × 8 columns</p>\n",
              "</div>"
            ],
            "text/plain": [
              "             Date/Time  Temp_C  ...  Press_kPa  Weather\n",
              "67      1/3/2012 19:00   -16.9  ...     101.74    Clear\n",
              "114     1/5/2012 18:00    -7.1  ...     100.71    Clear\n",
              "115     1/5/2012 19:00    -9.2  ...     100.80    Clear\n",
              "116     1/5/2012 20:00    -9.8  ...     100.83    Clear\n",
              "117     1/5/2012 21:00    -9.0  ...     100.83    Clear\n",
              "...                ...     ...  ...        ...      ...\n",
              "8646   12/26/2012 6:00   -13.4  ...     102.47    Clear\n",
              "8698  12/28/2012 10:00    -6.1  ...     101.27    Clear\n",
              "8713   12/29/2012 1:00   -11.9  ...     101.31    Clear\n",
              "8714   12/29/2012 2:00   -11.8  ...     101.33    Clear\n",
              "8756  12/30/2012 20:00   -13.8  ...     101.52    Clear\n",
              "\n",
              "[1326 rows x 8 columns]"
            ]
          },
          "metadata": {},
          "execution_count": 74
        }
      ]
    },
    {
      "cell_type": "code",
      "metadata": {
        "id": "_kPMO5NPdYIh"
      },
      "source": [
        "# To find the number of times the wind speed was exactly 7 km/hr"
      ],
      "execution_count": null,
      "outputs": []
    },
    {
      "cell_type": "code",
      "metadata": {
        "colab": {
          "base_uri": "https://localhost:8080/",
          "height": 111
        },
        "id": "DONXaONddaZ1",
        "outputId": "b35ecc02-7987-4eca-9f4f-ff5c889957e5"
      },
      "source": [
        "data.head(2)"
      ],
      "execution_count": null,
      "outputs": [
        {
          "output_type": "execute_result",
          "data": {
            "text/html": [
              "<div>\n",
              "<style scoped>\n",
              "    .dataframe tbody tr th:only-of-type {\n",
              "        vertical-align: middle;\n",
              "    }\n",
              "\n",
              "    .dataframe tbody tr th {\n",
              "        vertical-align: top;\n",
              "    }\n",
              "\n",
              "    .dataframe thead th {\n",
              "        text-align: right;\n",
              "    }\n",
              "</style>\n",
              "<table border=\"1\" class=\"dataframe\">\n",
              "  <thead>\n",
              "    <tr style=\"text-align: right;\">\n",
              "      <th></th>\n",
              "      <th>Date/Time</th>\n",
              "      <th>Temp_C</th>\n",
              "      <th>Dew Point Temp_C</th>\n",
              "      <th>Rel Hum_%</th>\n",
              "      <th>Wind Speed_km/h</th>\n",
              "      <th>Visibility_km</th>\n",
              "      <th>Press_kPa</th>\n",
              "      <th>Weather</th>\n",
              "    </tr>\n",
              "  </thead>\n",
              "  <tbody>\n",
              "    <tr>\n",
              "      <th>0</th>\n",
              "      <td>1/1/2012 0:00</td>\n",
              "      <td>-1.8</td>\n",
              "      <td>-3.9</td>\n",
              "      <td>86</td>\n",
              "      <td>4</td>\n",
              "      <td>8.0</td>\n",
              "      <td>101.24</td>\n",
              "      <td>Fog</td>\n",
              "    </tr>\n",
              "    <tr>\n",
              "      <th>1</th>\n",
              "      <td>1/1/2012 1:00</td>\n",
              "      <td>-1.8</td>\n",
              "      <td>-3.7</td>\n",
              "      <td>87</td>\n",
              "      <td>4</td>\n",
              "      <td>8.0</td>\n",
              "      <td>101.24</td>\n",
              "      <td>Fog</td>\n",
              "    </tr>\n",
              "  </tbody>\n",
              "</table>\n",
              "</div>"
            ],
            "text/plain": [
              "       Date/Time  Temp_C  Dew Point Temp_C  ...  Visibility_km  Press_kPa  Weather\n",
              "0  1/1/2012 0:00    -1.8              -3.9  ...            8.0     101.24      Fog\n",
              "1  1/1/2012 1:00    -1.8              -3.7  ...            8.0     101.24      Fog\n",
              "\n",
              "[2 rows x 8 columns]"
            ]
          },
          "metadata": {},
          "execution_count": 75
        }
      ]
    },
    {
      "cell_type": "code",
      "metadata": {
        "colab": {
          "base_uri": "https://localhost:8080/",
          "height": 419
        },
        "id": "Hv40Ksrpddwt",
        "outputId": "e71ffe20-13ff-4e72-d7aa-a6f9ff46e5e7"
      },
      "source": [
        "data[data['Wind Speed_km/h'] == 7]"
      ],
      "execution_count": null,
      "outputs": [
        {
          "output_type": "execute_result",
          "data": {
            "text/html": [
              "<div>\n",
              "<style scoped>\n",
              "    .dataframe tbody tr th:only-of-type {\n",
              "        vertical-align: middle;\n",
              "    }\n",
              "\n",
              "    .dataframe tbody tr th {\n",
              "        vertical-align: top;\n",
              "    }\n",
              "\n",
              "    .dataframe thead th {\n",
              "        text-align: right;\n",
              "    }\n",
              "</style>\n",
              "<table border=\"1\" class=\"dataframe\">\n",
              "  <thead>\n",
              "    <tr style=\"text-align: right;\">\n",
              "      <th></th>\n",
              "      <th>Date/Time</th>\n",
              "      <th>Temp_C</th>\n",
              "      <th>Dew Point Temp_C</th>\n",
              "      <th>Rel Hum_%</th>\n",
              "      <th>Wind Speed_km/h</th>\n",
              "      <th>Visibility_km</th>\n",
              "      <th>Press_kPa</th>\n",
              "      <th>Weather</th>\n",
              "    </tr>\n",
              "  </thead>\n",
              "  <tbody>\n",
              "    <tr>\n",
              "      <th>2</th>\n",
              "      <td>1/1/2012 2:00</td>\n",
              "      <td>-1.8</td>\n",
              "      <td>-3.4</td>\n",
              "      <td>89</td>\n",
              "      <td>7</td>\n",
              "      <td>4.0</td>\n",
              "      <td>101.26</td>\n",
              "      <td>Freezing Drizzle,Fog</td>\n",
              "    </tr>\n",
              "    <tr>\n",
              "      <th>4</th>\n",
              "      <td>1/1/2012 4:00</td>\n",
              "      <td>-1.5</td>\n",
              "      <td>-3.3</td>\n",
              "      <td>88</td>\n",
              "      <td>7</td>\n",
              "      <td>4.8</td>\n",
              "      <td>101.23</td>\n",
              "      <td>Fog</td>\n",
              "    </tr>\n",
              "    <tr>\n",
              "      <th>6</th>\n",
              "      <td>1/1/2012 6:00</td>\n",
              "      <td>-1.5</td>\n",
              "      <td>-3.1</td>\n",
              "      <td>89</td>\n",
              "      <td>7</td>\n",
              "      <td>6.4</td>\n",
              "      <td>101.29</td>\n",
              "      <td>Fog</td>\n",
              "    </tr>\n",
              "    <tr>\n",
              "      <th>7</th>\n",
              "      <td>1/1/2012 7:00</td>\n",
              "      <td>-1.4</td>\n",
              "      <td>-3.6</td>\n",
              "      <td>85</td>\n",
              "      <td>7</td>\n",
              "      <td>8.0</td>\n",
              "      <td>101.26</td>\n",
              "      <td>Fog</td>\n",
              "    </tr>\n",
              "    <tr>\n",
              "      <th>11</th>\n",
              "      <td>1/1/2012 11:00</td>\n",
              "      <td>-0.5</td>\n",
              "      <td>-2.1</td>\n",
              "      <td>89</td>\n",
              "      <td>7</td>\n",
              "      <td>4.0</td>\n",
              "      <td>100.98</td>\n",
              "      <td>Fog</td>\n",
              "    </tr>\n",
              "    <tr>\n",
              "      <th>...</th>\n",
              "      <td>...</td>\n",
              "      <td>...</td>\n",
              "      <td>...</td>\n",
              "      <td>...</td>\n",
              "      <td>...</td>\n",
              "      <td>...</td>\n",
              "      <td>...</td>\n",
              "      <td>...</td>\n",
              "    </tr>\n",
              "    <tr>\n",
              "      <th>8647</th>\n",
              "      <td>12/26/2012 7:00</td>\n",
              "      <td>-13.0</td>\n",
              "      <td>-14.4</td>\n",
              "      <td>89</td>\n",
              "      <td>7</td>\n",
              "      <td>25.0</td>\n",
              "      <td>102.46</td>\n",
              "      <td>Mainly Clear</td>\n",
              "    </tr>\n",
              "    <tr>\n",
              "      <th>8693</th>\n",
              "      <td>12/28/2012 5:00</td>\n",
              "      <td>-5.0</td>\n",
              "      <td>-6.1</td>\n",
              "      <td>92</td>\n",
              "      <td>7</td>\n",
              "      <td>25.0</td>\n",
              "      <td>101.01</td>\n",
              "      <td>Cloudy</td>\n",
              "    </tr>\n",
              "    <tr>\n",
              "      <th>8719</th>\n",
              "      <td>12/29/2012 7:00</td>\n",
              "      <td>-14.8</td>\n",
              "      <td>-16.4</td>\n",
              "      <td>88</td>\n",
              "      <td>7</td>\n",
              "      <td>8.0</td>\n",
              "      <td>101.22</td>\n",
              "      <td>Fog</td>\n",
              "    </tr>\n",
              "    <tr>\n",
              "      <th>8722</th>\n",
              "      <td>12/29/2012 10:00</td>\n",
              "      <td>-12.0</td>\n",
              "      <td>-13.3</td>\n",
              "      <td>90</td>\n",
              "      <td>7</td>\n",
              "      <td>6.4</td>\n",
              "      <td>101.15</td>\n",
              "      <td>Fog</td>\n",
              "    </tr>\n",
              "    <tr>\n",
              "      <th>8723</th>\n",
              "      <td>12/29/2012 11:00</td>\n",
              "      <td>-10.9</td>\n",
              "      <td>-12.2</td>\n",
              "      <td>90</td>\n",
              "      <td>7</td>\n",
              "      <td>6.4</td>\n",
              "      <td>101.09</td>\n",
              "      <td>Snow Showers,Fog</td>\n",
              "    </tr>\n",
              "  </tbody>\n",
              "</table>\n",
              "<p>677 rows × 8 columns</p>\n",
              "</div>"
            ],
            "text/plain": [
              "             Date/Time  Temp_C  ...  Press_kPa               Weather\n",
              "2        1/1/2012 2:00    -1.8  ...     101.26  Freezing Drizzle,Fog\n",
              "4        1/1/2012 4:00    -1.5  ...     101.23                   Fog\n",
              "6        1/1/2012 6:00    -1.5  ...     101.29                   Fog\n",
              "7        1/1/2012 7:00    -1.4  ...     101.26                   Fog\n",
              "11      1/1/2012 11:00    -0.5  ...     100.98                   Fog\n",
              "...                ...     ...  ...        ...                   ...\n",
              "8647   12/26/2012 7:00   -13.0  ...     102.46          Mainly Clear\n",
              "8693   12/28/2012 5:00    -5.0  ...     101.01                Cloudy\n",
              "8719   12/29/2012 7:00   -14.8  ...     101.22                   Fog\n",
              "8722  12/29/2012 10:00   -12.0  ...     101.15                   Fog\n",
              "8723  12/29/2012 11:00   -10.9  ...     101.09      Snow Showers,Fog\n",
              "\n",
              "[677 rows x 8 columns]"
            ]
          },
          "metadata": {},
          "execution_count": 76
        }
      ]
    },
    {
      "cell_type": "code",
      "metadata": {
        "id": "7786YA2pdg_3"
      },
      "source": [
        "#Find null values"
      ],
      "execution_count": null,
      "outputs": []
    },
    {
      "cell_type": "code",
      "metadata": {
        "colab": {
          "base_uri": "https://localhost:8080/",
          "height": 419
        },
        "id": "ocFoh33Mdxln",
        "outputId": "00dabb7f-b1c9-4e02-cd3c-57c9c7553dce"
      },
      "source": [
        "data[data.isnull()]"
      ],
      "execution_count": null,
      "outputs": [
        {
          "output_type": "execute_result",
          "data": {
            "text/html": [
              "<div>\n",
              "<style scoped>\n",
              "    .dataframe tbody tr th:only-of-type {\n",
              "        vertical-align: middle;\n",
              "    }\n",
              "\n",
              "    .dataframe tbody tr th {\n",
              "        vertical-align: top;\n",
              "    }\n",
              "\n",
              "    .dataframe thead th {\n",
              "        text-align: right;\n",
              "    }\n",
              "</style>\n",
              "<table border=\"1\" class=\"dataframe\">\n",
              "  <thead>\n",
              "    <tr style=\"text-align: right;\">\n",
              "      <th></th>\n",
              "      <th>Date/Time</th>\n",
              "      <th>Temp_C</th>\n",
              "      <th>Dew Point Temp_C</th>\n",
              "      <th>Rel Hum_%</th>\n",
              "      <th>Wind Speed_km/h</th>\n",
              "      <th>Visibility_km</th>\n",
              "      <th>Press_kPa</th>\n",
              "      <th>Weather</th>\n",
              "    </tr>\n",
              "  </thead>\n",
              "  <tbody>\n",
              "    <tr>\n",
              "      <th>0</th>\n",
              "      <td>NaN</td>\n",
              "      <td>NaN</td>\n",
              "      <td>NaN</td>\n",
              "      <td>NaN</td>\n",
              "      <td>NaN</td>\n",
              "      <td>NaN</td>\n",
              "      <td>NaN</td>\n",
              "      <td>NaN</td>\n",
              "    </tr>\n",
              "    <tr>\n",
              "      <th>1</th>\n",
              "      <td>NaN</td>\n",
              "      <td>NaN</td>\n",
              "      <td>NaN</td>\n",
              "      <td>NaN</td>\n",
              "      <td>NaN</td>\n",
              "      <td>NaN</td>\n",
              "      <td>NaN</td>\n",
              "      <td>NaN</td>\n",
              "    </tr>\n",
              "    <tr>\n",
              "      <th>2</th>\n",
              "      <td>NaN</td>\n",
              "      <td>NaN</td>\n",
              "      <td>NaN</td>\n",
              "      <td>NaN</td>\n",
              "      <td>NaN</td>\n",
              "      <td>NaN</td>\n",
              "      <td>NaN</td>\n",
              "      <td>NaN</td>\n",
              "    </tr>\n",
              "    <tr>\n",
              "      <th>3</th>\n",
              "      <td>NaN</td>\n",
              "      <td>NaN</td>\n",
              "      <td>NaN</td>\n",
              "      <td>NaN</td>\n",
              "      <td>NaN</td>\n",
              "      <td>NaN</td>\n",
              "      <td>NaN</td>\n",
              "      <td>NaN</td>\n",
              "    </tr>\n",
              "    <tr>\n",
              "      <th>4</th>\n",
              "      <td>NaN</td>\n",
              "      <td>NaN</td>\n",
              "      <td>NaN</td>\n",
              "      <td>NaN</td>\n",
              "      <td>NaN</td>\n",
              "      <td>NaN</td>\n",
              "      <td>NaN</td>\n",
              "      <td>NaN</td>\n",
              "    </tr>\n",
              "    <tr>\n",
              "      <th>...</th>\n",
              "      <td>...</td>\n",
              "      <td>...</td>\n",
              "      <td>...</td>\n",
              "      <td>...</td>\n",
              "      <td>...</td>\n",
              "      <td>...</td>\n",
              "      <td>...</td>\n",
              "      <td>...</td>\n",
              "    </tr>\n",
              "    <tr>\n",
              "      <th>8779</th>\n",
              "      <td>NaN</td>\n",
              "      <td>NaN</td>\n",
              "      <td>NaN</td>\n",
              "      <td>NaN</td>\n",
              "      <td>NaN</td>\n",
              "      <td>NaN</td>\n",
              "      <td>NaN</td>\n",
              "      <td>NaN</td>\n",
              "    </tr>\n",
              "    <tr>\n",
              "      <th>8780</th>\n",
              "      <td>NaN</td>\n",
              "      <td>NaN</td>\n",
              "      <td>NaN</td>\n",
              "      <td>NaN</td>\n",
              "      <td>NaN</td>\n",
              "      <td>NaN</td>\n",
              "      <td>NaN</td>\n",
              "      <td>NaN</td>\n",
              "    </tr>\n",
              "    <tr>\n",
              "      <th>8781</th>\n",
              "      <td>NaN</td>\n",
              "      <td>NaN</td>\n",
              "      <td>NaN</td>\n",
              "      <td>NaN</td>\n",
              "      <td>NaN</td>\n",
              "      <td>NaN</td>\n",
              "      <td>NaN</td>\n",
              "      <td>NaN</td>\n",
              "    </tr>\n",
              "    <tr>\n",
              "      <th>8782</th>\n",
              "      <td>NaN</td>\n",
              "      <td>NaN</td>\n",
              "      <td>NaN</td>\n",
              "      <td>NaN</td>\n",
              "      <td>NaN</td>\n",
              "      <td>NaN</td>\n",
              "      <td>NaN</td>\n",
              "      <td>NaN</td>\n",
              "    </tr>\n",
              "    <tr>\n",
              "      <th>8783</th>\n",
              "      <td>NaN</td>\n",
              "      <td>NaN</td>\n",
              "      <td>NaN</td>\n",
              "      <td>NaN</td>\n",
              "      <td>NaN</td>\n",
              "      <td>NaN</td>\n",
              "      <td>NaN</td>\n",
              "      <td>NaN</td>\n",
              "    </tr>\n",
              "  </tbody>\n",
              "</table>\n",
              "<p>8784 rows × 8 columns</p>\n",
              "</div>"
            ],
            "text/plain": [
              "     Date/Time  Temp_C  Dew Point Temp_C  ...  Visibility_km  Press_kPa  Weather\n",
              "0          NaN     NaN               NaN  ...            NaN        NaN      NaN\n",
              "1          NaN     NaN               NaN  ...            NaN        NaN      NaN\n",
              "2          NaN     NaN               NaN  ...            NaN        NaN      NaN\n",
              "3          NaN     NaN               NaN  ...            NaN        NaN      NaN\n",
              "4          NaN     NaN               NaN  ...            NaN        NaN      NaN\n",
              "...        ...     ...               ...  ...            ...        ...      ...\n",
              "8779       NaN     NaN               NaN  ...            NaN        NaN      NaN\n",
              "8780       NaN     NaN               NaN  ...            NaN        NaN      NaN\n",
              "8781       NaN     NaN               NaN  ...            NaN        NaN      NaN\n",
              "8782       NaN     NaN               NaN  ...            NaN        NaN      NaN\n",
              "8783       NaN     NaN               NaN  ...            NaN        NaN      NaN\n",
              "\n",
              "[8784 rows x 8 columns]"
            ]
          },
          "metadata": {},
          "execution_count": 77
        }
      ]
    },
    {
      "cell_type": "code",
      "metadata": {
        "id": "fXUhMM8Od0y_"
      },
      "source": [
        "#Renaming weahter with 'weather condition'"
      ],
      "execution_count": null,
      "outputs": []
    },
    {
      "cell_type": "code",
      "metadata": {
        "colab": {
          "base_uri": "https://localhost:8080/",
          "height": 419
        },
        "id": "YXkzls9Kd3Zo",
        "outputId": "d908ec83-23ff-4c5b-9cb0-f8305b4c77aa"
      },
      "source": [
        "data.rename(columns={'Weather' : 'Weather Condition'})"
      ],
      "execution_count": null,
      "outputs": [
        {
          "output_type": "execute_result",
          "data": {
            "text/html": [
              "<div>\n",
              "<style scoped>\n",
              "    .dataframe tbody tr th:only-of-type {\n",
              "        vertical-align: middle;\n",
              "    }\n",
              "\n",
              "    .dataframe tbody tr th {\n",
              "        vertical-align: top;\n",
              "    }\n",
              "\n",
              "    .dataframe thead th {\n",
              "        text-align: right;\n",
              "    }\n",
              "</style>\n",
              "<table border=\"1\" class=\"dataframe\">\n",
              "  <thead>\n",
              "    <tr style=\"text-align: right;\">\n",
              "      <th></th>\n",
              "      <th>Date/Time</th>\n",
              "      <th>Temp_C</th>\n",
              "      <th>Dew Point Temp_C</th>\n",
              "      <th>Rel Hum_%</th>\n",
              "      <th>Wind Speed_km/h</th>\n",
              "      <th>Visibility_km</th>\n",
              "      <th>Press_kPa</th>\n",
              "      <th>Weather Condition</th>\n",
              "    </tr>\n",
              "  </thead>\n",
              "  <tbody>\n",
              "    <tr>\n",
              "      <th>0</th>\n",
              "      <td>1/1/2012 0:00</td>\n",
              "      <td>-1.8</td>\n",
              "      <td>-3.9</td>\n",
              "      <td>86</td>\n",
              "      <td>4</td>\n",
              "      <td>8.0</td>\n",
              "      <td>101.24</td>\n",
              "      <td>Fog</td>\n",
              "    </tr>\n",
              "    <tr>\n",
              "      <th>1</th>\n",
              "      <td>1/1/2012 1:00</td>\n",
              "      <td>-1.8</td>\n",
              "      <td>-3.7</td>\n",
              "      <td>87</td>\n",
              "      <td>4</td>\n",
              "      <td>8.0</td>\n",
              "      <td>101.24</td>\n",
              "      <td>Fog</td>\n",
              "    </tr>\n",
              "    <tr>\n",
              "      <th>2</th>\n",
              "      <td>1/1/2012 2:00</td>\n",
              "      <td>-1.8</td>\n",
              "      <td>-3.4</td>\n",
              "      <td>89</td>\n",
              "      <td>7</td>\n",
              "      <td>4.0</td>\n",
              "      <td>101.26</td>\n",
              "      <td>Freezing Drizzle,Fog</td>\n",
              "    </tr>\n",
              "    <tr>\n",
              "      <th>3</th>\n",
              "      <td>1/1/2012 3:00</td>\n",
              "      <td>-1.5</td>\n",
              "      <td>-3.2</td>\n",
              "      <td>88</td>\n",
              "      <td>6</td>\n",
              "      <td>4.0</td>\n",
              "      <td>101.27</td>\n",
              "      <td>Freezing Drizzle,Fog</td>\n",
              "    </tr>\n",
              "    <tr>\n",
              "      <th>4</th>\n",
              "      <td>1/1/2012 4:00</td>\n",
              "      <td>-1.5</td>\n",
              "      <td>-3.3</td>\n",
              "      <td>88</td>\n",
              "      <td>7</td>\n",
              "      <td>4.8</td>\n",
              "      <td>101.23</td>\n",
              "      <td>Fog</td>\n",
              "    </tr>\n",
              "    <tr>\n",
              "      <th>...</th>\n",
              "      <td>...</td>\n",
              "      <td>...</td>\n",
              "      <td>...</td>\n",
              "      <td>...</td>\n",
              "      <td>...</td>\n",
              "      <td>...</td>\n",
              "      <td>...</td>\n",
              "      <td>...</td>\n",
              "    </tr>\n",
              "    <tr>\n",
              "      <th>8779</th>\n",
              "      <td>12/31/2012 19:00</td>\n",
              "      <td>0.1</td>\n",
              "      <td>-2.7</td>\n",
              "      <td>81</td>\n",
              "      <td>30</td>\n",
              "      <td>9.7</td>\n",
              "      <td>100.13</td>\n",
              "      <td>Snow</td>\n",
              "    </tr>\n",
              "    <tr>\n",
              "      <th>8780</th>\n",
              "      <td>12/31/2012 20:00</td>\n",
              "      <td>0.2</td>\n",
              "      <td>-2.4</td>\n",
              "      <td>83</td>\n",
              "      <td>24</td>\n",
              "      <td>9.7</td>\n",
              "      <td>100.03</td>\n",
              "      <td>Snow</td>\n",
              "    </tr>\n",
              "    <tr>\n",
              "      <th>8781</th>\n",
              "      <td>12/31/2012 21:00</td>\n",
              "      <td>-0.5</td>\n",
              "      <td>-1.5</td>\n",
              "      <td>93</td>\n",
              "      <td>28</td>\n",
              "      <td>4.8</td>\n",
              "      <td>99.95</td>\n",
              "      <td>Snow</td>\n",
              "    </tr>\n",
              "    <tr>\n",
              "      <th>8782</th>\n",
              "      <td>12/31/2012 22:00</td>\n",
              "      <td>-0.2</td>\n",
              "      <td>-1.8</td>\n",
              "      <td>89</td>\n",
              "      <td>28</td>\n",
              "      <td>9.7</td>\n",
              "      <td>99.91</td>\n",
              "      <td>Snow</td>\n",
              "    </tr>\n",
              "    <tr>\n",
              "      <th>8783</th>\n",
              "      <td>12/31/2012 23:00</td>\n",
              "      <td>0.0</td>\n",
              "      <td>-2.1</td>\n",
              "      <td>86</td>\n",
              "      <td>30</td>\n",
              "      <td>11.3</td>\n",
              "      <td>99.89</td>\n",
              "      <td>Snow</td>\n",
              "    </tr>\n",
              "  </tbody>\n",
              "</table>\n",
              "<p>8784 rows × 8 columns</p>\n",
              "</div>"
            ],
            "text/plain": [
              "             Date/Time  Temp_C  ...  Press_kPa     Weather Condition\n",
              "0        1/1/2012 0:00    -1.8  ...     101.24                   Fog\n",
              "1        1/1/2012 1:00    -1.8  ...     101.24                   Fog\n",
              "2        1/1/2012 2:00    -1.8  ...     101.26  Freezing Drizzle,Fog\n",
              "3        1/1/2012 3:00    -1.5  ...     101.27  Freezing Drizzle,Fog\n",
              "4        1/1/2012 4:00    -1.5  ...     101.23                   Fog\n",
              "...                ...     ...  ...        ...                   ...\n",
              "8779  12/31/2012 19:00     0.1  ...     100.13                  Snow\n",
              "8780  12/31/2012 20:00     0.2  ...     100.03                  Snow\n",
              "8781  12/31/2012 21:00    -0.5  ...      99.95                  Snow\n",
              "8782  12/31/2012 22:00    -0.2  ...      99.91                  Snow\n",
              "8783  12/31/2012 23:00     0.0  ...      99.89                  Snow\n",
              "\n",
              "[8784 rows x 8 columns]"
            ]
          },
          "metadata": {},
          "execution_count": 78
        }
      ]
    },
    {
      "cell_type": "code",
      "metadata": {
        "colab": {
          "base_uri": "https://localhost:8080/",
          "height": 111
        },
        "id": "luzLF9oDd6QO",
        "outputId": "57e16314-0277-4474-85da-8812102b28d9"
      },
      "source": [
        "data.head(2)"
      ],
      "execution_count": null,
      "outputs": [
        {
          "output_type": "execute_result",
          "data": {
            "text/html": [
              "<div>\n",
              "<style scoped>\n",
              "    .dataframe tbody tr th:only-of-type {\n",
              "        vertical-align: middle;\n",
              "    }\n",
              "\n",
              "    .dataframe tbody tr th {\n",
              "        vertical-align: top;\n",
              "    }\n",
              "\n",
              "    .dataframe thead th {\n",
              "        text-align: right;\n",
              "    }\n",
              "</style>\n",
              "<table border=\"1\" class=\"dataframe\">\n",
              "  <thead>\n",
              "    <tr style=\"text-align: right;\">\n",
              "      <th></th>\n",
              "      <th>Date/Time</th>\n",
              "      <th>Temp_C</th>\n",
              "      <th>Dew Point Temp_C</th>\n",
              "      <th>Rel Hum_%</th>\n",
              "      <th>Wind Speed_km/h</th>\n",
              "      <th>Visibility_km</th>\n",
              "      <th>Press_kPa</th>\n",
              "      <th>Weather</th>\n",
              "    </tr>\n",
              "  </thead>\n",
              "  <tbody>\n",
              "    <tr>\n",
              "      <th>0</th>\n",
              "      <td>1/1/2012 0:00</td>\n",
              "      <td>-1.8</td>\n",
              "      <td>-3.9</td>\n",
              "      <td>86</td>\n",
              "      <td>4</td>\n",
              "      <td>8.0</td>\n",
              "      <td>101.24</td>\n",
              "      <td>Fog</td>\n",
              "    </tr>\n",
              "    <tr>\n",
              "      <th>1</th>\n",
              "      <td>1/1/2012 1:00</td>\n",
              "      <td>-1.8</td>\n",
              "      <td>-3.7</td>\n",
              "      <td>87</td>\n",
              "      <td>4</td>\n",
              "      <td>8.0</td>\n",
              "      <td>101.24</td>\n",
              "      <td>Fog</td>\n",
              "    </tr>\n",
              "  </tbody>\n",
              "</table>\n",
              "</div>"
            ],
            "text/plain": [
              "       Date/Time  Temp_C  Dew Point Temp_C  ...  Visibility_km  Press_kPa  Weather\n",
              "0  1/1/2012 0:00    -1.8              -3.9  ...            8.0     101.24      Fog\n",
              "1  1/1/2012 1:00    -1.8              -3.7  ...            8.0     101.24      Fog\n",
              "\n",
              "[2 rows x 8 columns]"
            ]
          },
          "metadata": {},
          "execution_count": 79
        }
      ]
    },
    {
      "cell_type": "code",
      "metadata": {
        "id": "MEFm_9M8d8fh"
      },
      "source": [
        "#to rename permanently"
      ],
      "execution_count": null,
      "outputs": []
    },
    {
      "cell_type": "code",
      "metadata": {
        "id": "Tng59I1zeJBj"
      },
      "source": [
        "data.rename(columns={'Weather' : 'Weather Condition'},inplace=True)"
      ],
      "execution_count": null,
      "outputs": []
    },
    {
      "cell_type": "code",
      "metadata": {
        "colab": {
          "base_uri": "https://localhost:8080/",
          "height": 111
        },
        "id": "VaYER3EleLsH",
        "outputId": "da704634-0500-4a4f-e833-68e56bdca24a"
      },
      "source": [
        "data.head(2)"
      ],
      "execution_count": null,
      "outputs": [
        {
          "output_type": "execute_result",
          "data": {
            "text/html": [
              "<div>\n",
              "<style scoped>\n",
              "    .dataframe tbody tr th:only-of-type {\n",
              "        vertical-align: middle;\n",
              "    }\n",
              "\n",
              "    .dataframe tbody tr th {\n",
              "        vertical-align: top;\n",
              "    }\n",
              "\n",
              "    .dataframe thead th {\n",
              "        text-align: right;\n",
              "    }\n",
              "</style>\n",
              "<table border=\"1\" class=\"dataframe\">\n",
              "  <thead>\n",
              "    <tr style=\"text-align: right;\">\n",
              "      <th></th>\n",
              "      <th>Date/Time</th>\n",
              "      <th>Temp_C</th>\n",
              "      <th>Dew Point Temp_C</th>\n",
              "      <th>Rel Hum_%</th>\n",
              "      <th>Wind Speed_km/h</th>\n",
              "      <th>Visibility_km</th>\n",
              "      <th>Press_kPa</th>\n",
              "      <th>Weather Condition</th>\n",
              "    </tr>\n",
              "  </thead>\n",
              "  <tbody>\n",
              "    <tr>\n",
              "      <th>0</th>\n",
              "      <td>1/1/2012 0:00</td>\n",
              "      <td>-1.8</td>\n",
              "      <td>-3.9</td>\n",
              "      <td>86</td>\n",
              "      <td>4</td>\n",
              "      <td>8.0</td>\n",
              "      <td>101.24</td>\n",
              "      <td>Fog</td>\n",
              "    </tr>\n",
              "    <tr>\n",
              "      <th>1</th>\n",
              "      <td>1/1/2012 1:00</td>\n",
              "      <td>-1.8</td>\n",
              "      <td>-3.7</td>\n",
              "      <td>87</td>\n",
              "      <td>4</td>\n",
              "      <td>8.0</td>\n",
              "      <td>101.24</td>\n",
              "      <td>Fog</td>\n",
              "    </tr>\n",
              "  </tbody>\n",
              "</table>\n",
              "</div>"
            ],
            "text/plain": [
              "       Date/Time  Temp_C  ...  Press_kPa  Weather Condition\n",
              "0  1/1/2012 0:00    -1.8  ...     101.24                Fog\n",
              "1  1/1/2012 1:00    -1.8  ...     101.24                Fog\n",
              "\n",
              "[2 rows x 8 columns]"
            ]
          },
          "metadata": {},
          "execution_count": 82
        }
      ]
    },
    {
      "cell_type": "code",
      "metadata": {
        "id": "567esf_yeObO"
      },
      "source": [
        "#Mean of visibility"
      ],
      "execution_count": null,
      "outputs": []
    },
    {
      "cell_type": "code",
      "metadata": {
        "colab": {
          "base_uri": "https://localhost:8080/"
        },
        "id": "MFzk43-PeQtm",
        "outputId": "68c9acd0-6628-4840-9e1b-626a201890dd"
      },
      "source": [
        "data.Visibility_km.mean()"
      ],
      "execution_count": null,
      "outputs": [
        {
          "output_type": "execute_result",
          "data": {
            "text/plain": [
              "27.66444672131151"
            ]
          },
          "metadata": {},
          "execution_count": 83
        }
      ]
    },
    {
      "cell_type": "code",
      "metadata": {
        "id": "Ioe3KiXYeTS9"
      },
      "source": [
        "#Standard deviation of pressure"
      ],
      "execution_count": null,
      "outputs": []
    },
    {
      "cell_type": "code",
      "metadata": {
        "colab": {
          "base_uri": "https://localhost:8080/"
        },
        "id": "GTpA7kqneWkN",
        "outputId": "4034202b-1dd1-4939-d5a9-a0a41bad9836"
      },
      "source": [
        "data.Press_kPa.std()"
      ],
      "execution_count": null,
      "outputs": [
        {
          "output_type": "execute_result",
          "data": {
            "text/plain": [
              "0.8440047459486474"
            ]
          },
          "metadata": {},
          "execution_count": 84
        }
      ]
    },
    {
      "cell_type": "code",
      "metadata": {
        "id": "WQku3n1ZeY1s"
      },
      "source": [
        "#variance of relative humidity "
      ],
      "execution_count": null,
      "outputs": []
    },
    {
      "cell_type": "code",
      "metadata": {
        "colab": {
          "base_uri": "https://localhost:8080/"
        },
        "id": "xRDOdYzJecai",
        "outputId": "b91160e5-692e-4f21-8e34-598314df0830"
      },
      "source": [
        "data['Rel Hum_%'].var() #We use square bracket whenever there is space between the character"
      ],
      "execution_count": null,
      "outputs": [
        {
          "output_type": "execute_result",
          "data": {
            "text/plain": [
              "286.2485501984998"
            ]
          },
          "metadata": {},
          "execution_count": 85
        }
      ]
    },
    {
      "cell_type": "code",
      "metadata": {
        "id": "j-4tg7fJeeVt"
      },
      "source": [
        "#Finding when was snow recorded"
      ],
      "execution_count": null,
      "outputs": []
    },
    {
      "cell_type": "code",
      "metadata": {
        "colab": {
          "base_uri": "https://localhost:8080/"
        },
        "id": "Xt-948rMev7Y",
        "outputId": "cd7fb01d-a81f-4114-ec74-c30ad5b9be6f"
      },
      "source": [
        "data['Weather Condition'].value_counts()"
      ],
      "execution_count": null,
      "outputs": [
        {
          "output_type": "execute_result",
          "data": {
            "text/plain": [
              "Mainly Clear                               2106\n",
              "Mostly Cloudy                              2069\n",
              "Cloudy                                     1728\n",
              "Clear                                      1326\n",
              "Snow                                        390\n",
              "Rain                                        306\n",
              "Rain Showers                                188\n",
              "Fog                                         150\n",
              "Rain,Fog                                    116\n",
              "Drizzle,Fog                                  80\n",
              "Snow Showers                                 60\n",
              "Drizzle                                      41\n",
              "Snow,Fog                                     37\n",
              "Snow,Blowing Snow                            19\n",
              "Rain,Snow                                    18\n",
              "Haze                                         16\n",
              "Thunderstorms,Rain Showers                   16\n",
              "Drizzle,Snow,Fog                             15\n",
              "Freezing Rain                                14\n",
              "Freezing Drizzle,Snow                        11\n",
              "Freezing Drizzle                              7\n",
              "Freezing Drizzle,Fog                          6\n",
              "Snow,Ice Pellets                              6\n",
              "Snow,Haze                                     5\n",
              "Snow Showers,Fog                              4\n",
              "Rain,Snow,Ice Pellets                         4\n",
              "Freezing Fog                                  4\n",
              "Freezing Rain,Fog                             4\n",
              "Moderate Snow                                 4\n",
              "Thunderstorms,Rain                            3\n",
              "Thunderstorms,Rain Showers,Fog                3\n",
              "Rain,Haze                                     3\n",
              "Freezing Drizzle,Haze                         3\n",
              "Drizzle,Snow                                  2\n",
              "Moderate Snow,Blowing Snow                    2\n",
              "Freezing Rain,Haze                            2\n",
              "Rain Showers,Snow Showers                     2\n",
              "Thunderstorms                                 2\n",
              "Drizzle,Ice Pellets,Fog                       1\n",
              "Rain,Snow Grains                              1\n",
              "Thunderstorms,Rain,Fog                        1\n",
              "Freezing Rain,Ice Pellets,Fog                 1\n",
              "Rain Showers,Fog                              1\n",
              "Moderate Rain,Fog                             1\n",
              "Rain,Ice Pellets                              1\n",
              "Thunderstorms,Heavy Rain Showers              1\n",
              "Rain,Snow,Fog                                 1\n",
              "Freezing Rain,Snow Grains                     1\n",
              "Snow Pellets                                  1\n",
              "Thunderstorms,Moderate Rain Showers,Fog       1\n",
              "Name: Weather Condition, dtype: int64"
            ]
          },
          "metadata": {},
          "execution_count": 86
        }
      ]
    },
    {
      "cell_type": "code",
      "metadata": {
        "colab": {
          "base_uri": "https://localhost:8080/",
          "height": 419
        },
        "id": "uIgxC0KyezOF",
        "outputId": "e3abdda9-3b01-4a0d-ce24-64cab1b80ee2"
      },
      "source": [
        "data[data['Weather Condition']=='Snow']"
      ],
      "execution_count": null,
      "outputs": [
        {
          "output_type": "execute_result",
          "data": {
            "text/html": [
              "<div>\n",
              "<style scoped>\n",
              "    .dataframe tbody tr th:only-of-type {\n",
              "        vertical-align: middle;\n",
              "    }\n",
              "\n",
              "    .dataframe tbody tr th {\n",
              "        vertical-align: top;\n",
              "    }\n",
              "\n",
              "    .dataframe thead th {\n",
              "        text-align: right;\n",
              "    }\n",
              "</style>\n",
              "<table border=\"1\" class=\"dataframe\">\n",
              "  <thead>\n",
              "    <tr style=\"text-align: right;\">\n",
              "      <th></th>\n",
              "      <th>Date/Time</th>\n",
              "      <th>Temp_C</th>\n",
              "      <th>Dew Point Temp_C</th>\n",
              "      <th>Rel Hum_%</th>\n",
              "      <th>Wind Speed_km/h</th>\n",
              "      <th>Visibility_km</th>\n",
              "      <th>Press_kPa</th>\n",
              "      <th>Weather Condition</th>\n",
              "    </tr>\n",
              "  </thead>\n",
              "  <tbody>\n",
              "    <tr>\n",
              "      <th>55</th>\n",
              "      <td>1/3/2012 7:00</td>\n",
              "      <td>-14.0</td>\n",
              "      <td>-19.5</td>\n",
              "      <td>63</td>\n",
              "      <td>19</td>\n",
              "      <td>25.0</td>\n",
              "      <td>100.95</td>\n",
              "      <td>Snow</td>\n",
              "    </tr>\n",
              "    <tr>\n",
              "      <th>84</th>\n",
              "      <td>1/4/2012 12:00</td>\n",
              "      <td>-13.7</td>\n",
              "      <td>-21.7</td>\n",
              "      <td>51</td>\n",
              "      <td>11</td>\n",
              "      <td>24.1</td>\n",
              "      <td>101.25</td>\n",
              "      <td>Snow</td>\n",
              "    </tr>\n",
              "    <tr>\n",
              "      <th>86</th>\n",
              "      <td>1/4/2012 14:00</td>\n",
              "      <td>-11.3</td>\n",
              "      <td>-19.0</td>\n",
              "      <td>53</td>\n",
              "      <td>7</td>\n",
              "      <td>19.3</td>\n",
              "      <td>100.97</td>\n",
              "      <td>Snow</td>\n",
              "    </tr>\n",
              "    <tr>\n",
              "      <th>87</th>\n",
              "      <td>1/4/2012 15:00</td>\n",
              "      <td>-10.2</td>\n",
              "      <td>-16.3</td>\n",
              "      <td>61</td>\n",
              "      <td>11</td>\n",
              "      <td>9.7</td>\n",
              "      <td>100.89</td>\n",
              "      <td>Snow</td>\n",
              "    </tr>\n",
              "    <tr>\n",
              "      <th>88</th>\n",
              "      <td>1/4/2012 16:00</td>\n",
              "      <td>-9.4</td>\n",
              "      <td>-15.5</td>\n",
              "      <td>61</td>\n",
              "      <td>13</td>\n",
              "      <td>19.3</td>\n",
              "      <td>100.79</td>\n",
              "      <td>Snow</td>\n",
              "    </tr>\n",
              "    <tr>\n",
              "      <th>...</th>\n",
              "      <td>...</td>\n",
              "      <td>...</td>\n",
              "      <td>...</td>\n",
              "      <td>...</td>\n",
              "      <td>...</td>\n",
              "      <td>...</td>\n",
              "      <td>...</td>\n",
              "      <td>...</td>\n",
              "    </tr>\n",
              "    <tr>\n",
              "      <th>8779</th>\n",
              "      <td>12/31/2012 19:00</td>\n",
              "      <td>0.1</td>\n",
              "      <td>-2.7</td>\n",
              "      <td>81</td>\n",
              "      <td>30</td>\n",
              "      <td>9.7</td>\n",
              "      <td>100.13</td>\n",
              "      <td>Snow</td>\n",
              "    </tr>\n",
              "    <tr>\n",
              "      <th>8780</th>\n",
              "      <td>12/31/2012 20:00</td>\n",
              "      <td>0.2</td>\n",
              "      <td>-2.4</td>\n",
              "      <td>83</td>\n",
              "      <td>24</td>\n",
              "      <td>9.7</td>\n",
              "      <td>100.03</td>\n",
              "      <td>Snow</td>\n",
              "    </tr>\n",
              "    <tr>\n",
              "      <th>8781</th>\n",
              "      <td>12/31/2012 21:00</td>\n",
              "      <td>-0.5</td>\n",
              "      <td>-1.5</td>\n",
              "      <td>93</td>\n",
              "      <td>28</td>\n",
              "      <td>4.8</td>\n",
              "      <td>99.95</td>\n",
              "      <td>Snow</td>\n",
              "    </tr>\n",
              "    <tr>\n",
              "      <th>8782</th>\n",
              "      <td>12/31/2012 22:00</td>\n",
              "      <td>-0.2</td>\n",
              "      <td>-1.8</td>\n",
              "      <td>89</td>\n",
              "      <td>28</td>\n",
              "      <td>9.7</td>\n",
              "      <td>99.91</td>\n",
              "      <td>Snow</td>\n",
              "    </tr>\n",
              "    <tr>\n",
              "      <th>8783</th>\n",
              "      <td>12/31/2012 23:00</td>\n",
              "      <td>0.0</td>\n",
              "      <td>-2.1</td>\n",
              "      <td>86</td>\n",
              "      <td>30</td>\n",
              "      <td>11.3</td>\n",
              "      <td>99.89</td>\n",
              "      <td>Snow</td>\n",
              "    </tr>\n",
              "  </tbody>\n",
              "</table>\n",
              "<p>390 rows × 8 columns</p>\n",
              "</div>"
            ],
            "text/plain": [
              "             Date/Time  Temp_C  ...  Press_kPa  Weather Condition\n",
              "55       1/3/2012 7:00   -14.0  ...     100.95               Snow\n",
              "84      1/4/2012 12:00   -13.7  ...     101.25               Snow\n",
              "86      1/4/2012 14:00   -11.3  ...     100.97               Snow\n",
              "87      1/4/2012 15:00   -10.2  ...     100.89               Snow\n",
              "88      1/4/2012 16:00    -9.4  ...     100.79               Snow\n",
              "...                ...     ...  ...        ...                ...\n",
              "8779  12/31/2012 19:00     0.1  ...     100.13               Snow\n",
              "8780  12/31/2012 20:00     0.2  ...     100.03               Snow\n",
              "8781  12/31/2012 21:00    -0.5  ...      99.95               Snow\n",
              "8782  12/31/2012 22:00    -0.2  ...      99.91               Snow\n",
              "8783  12/31/2012 23:00     0.0  ...      99.89               Snow\n",
              "\n",
              "[390 rows x 8 columns]"
            ]
          },
          "metadata": {},
          "execution_count": 87
        }
      ]
    },
    {
      "cell_type": "code",
      "metadata": {
        "colab": {
          "base_uri": "https://localhost:8080/",
          "height": 419
        },
        "id": "BU7NVn40e2tr",
        "outputId": "57c1d4e6-15c4-4233-94f9-bf2c1e7ad476"
      },
      "source": [
        "data[data['Weather Condition'].str.contains('Snow')]"
      ],
      "execution_count": null,
      "outputs": [
        {
          "output_type": "execute_result",
          "data": {
            "text/html": [
              "<div>\n",
              "<style scoped>\n",
              "    .dataframe tbody tr th:only-of-type {\n",
              "        vertical-align: middle;\n",
              "    }\n",
              "\n",
              "    .dataframe tbody tr th {\n",
              "        vertical-align: top;\n",
              "    }\n",
              "\n",
              "    .dataframe thead th {\n",
              "        text-align: right;\n",
              "    }\n",
              "</style>\n",
              "<table border=\"1\" class=\"dataframe\">\n",
              "  <thead>\n",
              "    <tr style=\"text-align: right;\">\n",
              "      <th></th>\n",
              "      <th>Date/Time</th>\n",
              "      <th>Temp_C</th>\n",
              "      <th>Dew Point Temp_C</th>\n",
              "      <th>Rel Hum_%</th>\n",
              "      <th>Wind Speed_km/h</th>\n",
              "      <th>Visibility_km</th>\n",
              "      <th>Press_kPa</th>\n",
              "      <th>Weather Condition</th>\n",
              "    </tr>\n",
              "  </thead>\n",
              "  <tbody>\n",
              "    <tr>\n",
              "      <th>41</th>\n",
              "      <td>1/2/2012 17:00</td>\n",
              "      <td>-2.1</td>\n",
              "      <td>-9.5</td>\n",
              "      <td>57</td>\n",
              "      <td>22</td>\n",
              "      <td>25.0</td>\n",
              "      <td>99.66</td>\n",
              "      <td>Snow Showers</td>\n",
              "    </tr>\n",
              "    <tr>\n",
              "      <th>44</th>\n",
              "      <td>1/2/2012 20:00</td>\n",
              "      <td>-5.6</td>\n",
              "      <td>-13.4</td>\n",
              "      <td>54</td>\n",
              "      <td>24</td>\n",
              "      <td>25.0</td>\n",
              "      <td>100.07</td>\n",
              "      <td>Snow Showers</td>\n",
              "    </tr>\n",
              "    <tr>\n",
              "      <th>45</th>\n",
              "      <td>1/2/2012 21:00</td>\n",
              "      <td>-5.8</td>\n",
              "      <td>-12.8</td>\n",
              "      <td>58</td>\n",
              "      <td>26</td>\n",
              "      <td>25.0</td>\n",
              "      <td>100.15</td>\n",
              "      <td>Snow Showers</td>\n",
              "    </tr>\n",
              "    <tr>\n",
              "      <th>47</th>\n",
              "      <td>1/2/2012 23:00</td>\n",
              "      <td>-7.4</td>\n",
              "      <td>-14.1</td>\n",
              "      <td>59</td>\n",
              "      <td>17</td>\n",
              "      <td>19.3</td>\n",
              "      <td>100.27</td>\n",
              "      <td>Snow Showers</td>\n",
              "    </tr>\n",
              "    <tr>\n",
              "      <th>48</th>\n",
              "      <td>1/3/2012 0:00</td>\n",
              "      <td>-9.0</td>\n",
              "      <td>-16.0</td>\n",
              "      <td>57</td>\n",
              "      <td>28</td>\n",
              "      <td>25.0</td>\n",
              "      <td>100.35</td>\n",
              "      <td>Snow Showers</td>\n",
              "    </tr>\n",
              "    <tr>\n",
              "      <th>...</th>\n",
              "      <td>...</td>\n",
              "      <td>...</td>\n",
              "      <td>...</td>\n",
              "      <td>...</td>\n",
              "      <td>...</td>\n",
              "      <td>...</td>\n",
              "      <td>...</td>\n",
              "      <td>...</td>\n",
              "    </tr>\n",
              "    <tr>\n",
              "      <th>8779</th>\n",
              "      <td>12/31/2012 19:00</td>\n",
              "      <td>0.1</td>\n",
              "      <td>-2.7</td>\n",
              "      <td>81</td>\n",
              "      <td>30</td>\n",
              "      <td>9.7</td>\n",
              "      <td>100.13</td>\n",
              "      <td>Snow</td>\n",
              "    </tr>\n",
              "    <tr>\n",
              "      <th>8780</th>\n",
              "      <td>12/31/2012 20:00</td>\n",
              "      <td>0.2</td>\n",
              "      <td>-2.4</td>\n",
              "      <td>83</td>\n",
              "      <td>24</td>\n",
              "      <td>9.7</td>\n",
              "      <td>100.03</td>\n",
              "      <td>Snow</td>\n",
              "    </tr>\n",
              "    <tr>\n",
              "      <th>8781</th>\n",
              "      <td>12/31/2012 21:00</td>\n",
              "      <td>-0.5</td>\n",
              "      <td>-1.5</td>\n",
              "      <td>93</td>\n",
              "      <td>28</td>\n",
              "      <td>4.8</td>\n",
              "      <td>99.95</td>\n",
              "      <td>Snow</td>\n",
              "    </tr>\n",
              "    <tr>\n",
              "      <th>8782</th>\n",
              "      <td>12/31/2012 22:00</td>\n",
              "      <td>-0.2</td>\n",
              "      <td>-1.8</td>\n",
              "      <td>89</td>\n",
              "      <td>28</td>\n",
              "      <td>9.7</td>\n",
              "      <td>99.91</td>\n",
              "      <td>Snow</td>\n",
              "    </tr>\n",
              "    <tr>\n",
              "      <th>8783</th>\n",
              "      <td>12/31/2012 23:00</td>\n",
              "      <td>0.0</td>\n",
              "      <td>-2.1</td>\n",
              "      <td>86</td>\n",
              "      <td>30</td>\n",
              "      <td>11.3</td>\n",
              "      <td>99.89</td>\n",
              "      <td>Snow</td>\n",
              "    </tr>\n",
              "  </tbody>\n",
              "</table>\n",
              "<p>583 rows × 8 columns</p>\n",
              "</div>"
            ],
            "text/plain": [
              "             Date/Time  Temp_C  ...  Press_kPa  Weather Condition\n",
              "41      1/2/2012 17:00    -2.1  ...      99.66       Snow Showers\n",
              "44      1/2/2012 20:00    -5.6  ...     100.07       Snow Showers\n",
              "45      1/2/2012 21:00    -5.8  ...     100.15       Snow Showers\n",
              "47      1/2/2012 23:00    -7.4  ...     100.27       Snow Showers\n",
              "48       1/3/2012 0:00    -9.0  ...     100.35       Snow Showers\n",
              "...                ...     ...  ...        ...                ...\n",
              "8779  12/31/2012 19:00     0.1  ...     100.13               Snow\n",
              "8780  12/31/2012 20:00     0.2  ...     100.03               Snow\n",
              "8781  12/31/2012 21:00    -0.5  ...      99.95               Snow\n",
              "8782  12/31/2012 22:00    -0.2  ...      99.91               Snow\n",
              "8783  12/31/2012 23:00     0.0  ...      99.89               Snow\n",
              "\n",
              "[583 rows x 8 columns]"
            ]
          },
          "metadata": {},
          "execution_count": 88
        }
      ]
    },
    {
      "cell_type": "code",
      "metadata": {
        "id": "LvP5R8yFfBbA"
      },
      "source": [
        "#Instances when windspeed is above 25 and visibility is 25"
      ],
      "execution_count": null,
      "outputs": []
    },
    {
      "cell_type": "code",
      "metadata": {
        "colab": {
          "base_uri": "https://localhost:8080/",
          "height": 419
        },
        "id": "cogoPxYNf54l",
        "outputId": "95a6a489-d0db-4722-9468-568dd6d59bbc"
      },
      "source": [
        "data[(data['Wind Speed_km/h']>24)&(data['Visibility_km']==25)]"
      ],
      "execution_count": null,
      "outputs": [
        {
          "output_type": "execute_result",
          "data": {
            "text/html": [
              "<div>\n",
              "<style scoped>\n",
              "    .dataframe tbody tr th:only-of-type {\n",
              "        vertical-align: middle;\n",
              "    }\n",
              "\n",
              "    .dataframe tbody tr th {\n",
              "        vertical-align: top;\n",
              "    }\n",
              "\n",
              "    .dataframe thead th {\n",
              "        text-align: right;\n",
              "    }\n",
              "</style>\n",
              "<table border=\"1\" class=\"dataframe\">\n",
              "  <thead>\n",
              "    <tr style=\"text-align: right;\">\n",
              "      <th></th>\n",
              "      <th>Date/Time</th>\n",
              "      <th>Temp_C</th>\n",
              "      <th>Dew Point Temp_C</th>\n",
              "      <th>Rel Hum_%</th>\n",
              "      <th>Wind Speed_km/h</th>\n",
              "      <th>Visibility_km</th>\n",
              "      <th>Press_kPa</th>\n",
              "      <th>Weather Condition</th>\n",
              "    </tr>\n",
              "  </thead>\n",
              "  <tbody>\n",
              "    <tr>\n",
              "      <th>23</th>\n",
              "      <td>1/1/2012 23:00</td>\n",
              "      <td>5.3</td>\n",
              "      <td>2.0</td>\n",
              "      <td>79</td>\n",
              "      <td>30</td>\n",
              "      <td>25.0</td>\n",
              "      <td>99.31</td>\n",
              "      <td>Cloudy</td>\n",
              "    </tr>\n",
              "    <tr>\n",
              "      <th>24</th>\n",
              "      <td>1/2/2012 0:00</td>\n",
              "      <td>5.2</td>\n",
              "      <td>1.5</td>\n",
              "      <td>77</td>\n",
              "      <td>35</td>\n",
              "      <td>25.0</td>\n",
              "      <td>99.26</td>\n",
              "      <td>Rain Showers</td>\n",
              "    </tr>\n",
              "    <tr>\n",
              "      <th>25</th>\n",
              "      <td>1/2/2012 1:00</td>\n",
              "      <td>4.6</td>\n",
              "      <td>0.0</td>\n",
              "      <td>72</td>\n",
              "      <td>39</td>\n",
              "      <td>25.0</td>\n",
              "      <td>99.26</td>\n",
              "      <td>Cloudy</td>\n",
              "    </tr>\n",
              "    <tr>\n",
              "      <th>26</th>\n",
              "      <td>1/2/2012 2:00</td>\n",
              "      <td>3.9</td>\n",
              "      <td>-0.9</td>\n",
              "      <td>71</td>\n",
              "      <td>32</td>\n",
              "      <td>25.0</td>\n",
              "      <td>99.26</td>\n",
              "      <td>Mostly Cloudy</td>\n",
              "    </tr>\n",
              "    <tr>\n",
              "      <th>27</th>\n",
              "      <td>1/2/2012 3:00</td>\n",
              "      <td>3.7</td>\n",
              "      <td>-1.5</td>\n",
              "      <td>69</td>\n",
              "      <td>33</td>\n",
              "      <td>25.0</td>\n",
              "      <td>99.30</td>\n",
              "      <td>Mostly Cloudy</td>\n",
              "    </tr>\n",
              "    <tr>\n",
              "      <th>...</th>\n",
              "      <td>...</td>\n",
              "      <td>...</td>\n",
              "      <td>...</td>\n",
              "      <td>...</td>\n",
              "      <td>...</td>\n",
              "      <td>...</td>\n",
              "      <td>...</td>\n",
              "      <td>...</td>\n",
              "    </tr>\n",
              "    <tr>\n",
              "      <th>8705</th>\n",
              "      <td>12/28/2012 17:00</td>\n",
              "      <td>-8.6</td>\n",
              "      <td>-12.0</td>\n",
              "      <td>76</td>\n",
              "      <td>26</td>\n",
              "      <td>25.0</td>\n",
              "      <td>101.34</td>\n",
              "      <td>Mainly Clear</td>\n",
              "    </tr>\n",
              "    <tr>\n",
              "      <th>8753</th>\n",
              "      <td>12/30/2012 17:00</td>\n",
              "      <td>-12.1</td>\n",
              "      <td>-15.8</td>\n",
              "      <td>74</td>\n",
              "      <td>28</td>\n",
              "      <td>25.0</td>\n",
              "      <td>101.26</td>\n",
              "      <td>Mainly Clear</td>\n",
              "    </tr>\n",
              "    <tr>\n",
              "      <th>8755</th>\n",
              "      <td>12/30/2012 19:00</td>\n",
              "      <td>-13.4</td>\n",
              "      <td>-16.5</td>\n",
              "      <td>77</td>\n",
              "      <td>26</td>\n",
              "      <td>25.0</td>\n",
              "      <td>101.47</td>\n",
              "      <td>Mainly Clear</td>\n",
              "    </tr>\n",
              "    <tr>\n",
              "      <th>8759</th>\n",
              "      <td>12/30/2012 23:00</td>\n",
              "      <td>-12.1</td>\n",
              "      <td>-15.1</td>\n",
              "      <td>78</td>\n",
              "      <td>28</td>\n",
              "      <td>25.0</td>\n",
              "      <td>101.52</td>\n",
              "      <td>Mostly Cloudy</td>\n",
              "    </tr>\n",
              "    <tr>\n",
              "      <th>8760</th>\n",
              "      <td>12/31/2012 0:00</td>\n",
              "      <td>-11.1</td>\n",
              "      <td>-14.4</td>\n",
              "      <td>77</td>\n",
              "      <td>26</td>\n",
              "      <td>25.0</td>\n",
              "      <td>101.51</td>\n",
              "      <td>Cloudy</td>\n",
              "    </tr>\n",
              "  </tbody>\n",
              "</table>\n",
              "<p>308 rows × 8 columns</p>\n",
              "</div>"
            ],
            "text/plain": [
              "             Date/Time  Temp_C  ...  Press_kPa  Weather Condition\n",
              "23      1/1/2012 23:00     5.3  ...      99.31             Cloudy\n",
              "24       1/2/2012 0:00     5.2  ...      99.26       Rain Showers\n",
              "25       1/2/2012 1:00     4.6  ...      99.26             Cloudy\n",
              "26       1/2/2012 2:00     3.9  ...      99.26      Mostly Cloudy\n",
              "27       1/2/2012 3:00     3.7  ...      99.30      Mostly Cloudy\n",
              "...                ...     ...  ...        ...                ...\n",
              "8705  12/28/2012 17:00    -8.6  ...     101.34       Mainly Clear\n",
              "8753  12/30/2012 17:00   -12.1  ...     101.26       Mainly Clear\n",
              "8755  12/30/2012 19:00   -13.4  ...     101.47       Mainly Clear\n",
              "8759  12/30/2012 23:00   -12.1  ...     101.52      Mostly Cloudy\n",
              "8760   12/31/2012 0:00   -11.1  ...     101.51             Cloudy\n",
              "\n",
              "[308 rows x 8 columns]"
            ]
          },
          "metadata": {},
          "execution_count": 89
        }
      ]
    },
    {
      "cell_type": "code",
      "metadata": {
        "colab": {
          "base_uri": "https://localhost:8080/",
          "height": 111
        },
        "id": "0qG2E0Cif_Sc",
        "outputId": "af3cea24-bbe9-4d55-b9e3-1aff5d5950c4"
      },
      "source": [
        "data.head(2)"
      ],
      "execution_count": null,
      "outputs": [
        {
          "output_type": "execute_result",
          "data": {
            "text/html": [
              "<div>\n",
              "<style scoped>\n",
              "    .dataframe tbody tr th:only-of-type {\n",
              "        vertical-align: middle;\n",
              "    }\n",
              "\n",
              "    .dataframe tbody tr th {\n",
              "        vertical-align: top;\n",
              "    }\n",
              "\n",
              "    .dataframe thead th {\n",
              "        text-align: right;\n",
              "    }\n",
              "</style>\n",
              "<table border=\"1\" class=\"dataframe\">\n",
              "  <thead>\n",
              "    <tr style=\"text-align: right;\">\n",
              "      <th></th>\n",
              "      <th>Date/Time</th>\n",
              "      <th>Temp_C</th>\n",
              "      <th>Dew Point Temp_C</th>\n",
              "      <th>Rel Hum_%</th>\n",
              "      <th>Wind Speed_km/h</th>\n",
              "      <th>Visibility_km</th>\n",
              "      <th>Press_kPa</th>\n",
              "      <th>Weather Condition</th>\n",
              "    </tr>\n",
              "  </thead>\n",
              "  <tbody>\n",
              "    <tr>\n",
              "      <th>0</th>\n",
              "      <td>1/1/2012 0:00</td>\n",
              "      <td>-1.8</td>\n",
              "      <td>-3.9</td>\n",
              "      <td>86</td>\n",
              "      <td>4</td>\n",
              "      <td>8.0</td>\n",
              "      <td>101.24</td>\n",
              "      <td>Fog</td>\n",
              "    </tr>\n",
              "    <tr>\n",
              "      <th>1</th>\n",
              "      <td>1/1/2012 1:00</td>\n",
              "      <td>-1.8</td>\n",
              "      <td>-3.7</td>\n",
              "      <td>87</td>\n",
              "      <td>4</td>\n",
              "      <td>8.0</td>\n",
              "      <td>101.24</td>\n",
              "      <td>Fog</td>\n",
              "    </tr>\n",
              "  </tbody>\n",
              "</table>\n",
              "</div>"
            ],
            "text/plain": [
              "       Date/Time  Temp_C  ...  Press_kPa  Weather Condition\n",
              "0  1/1/2012 0:00    -1.8  ...     101.24                Fog\n",
              "1  1/1/2012 1:00    -1.8  ...     101.24                Fog\n",
              "\n",
              "[2 rows x 8 columns]"
            ]
          },
          "metadata": {},
          "execution_count": 90
        }
      ]
    },
    {
      "cell_type": "code",
      "metadata": {
        "colab": {
          "base_uri": "https://localhost:8080/",
          "height": 1000
        },
        "id": "I1CQzAG6gIei",
        "outputId": "34219814-896c-40bc-a6db-707c9d378099"
      },
      "source": [
        "data['Temp_C'].value_counts().plot(kind='barh',figsize=(10,20))"
      ],
      "execution_count": null,
      "outputs": [
        {
          "output_type": "execute_result",
          "data": {
            "text/plain": [
              "<matplotlib.axes._subplots.AxesSubplot at 0x7f5cdbda4e90>"
            ]
          },
          "metadata": {},
          "execution_count": 91
        },
        {
          "output_type": "display_data",
          "data": {
            "image/png": "[encoded data removed]",
            "text/plain": [
              "<Figure size 720x1440 with 1 Axes>"
            ]
          },
          "metadata": {
            "needs_background": "light"
          }
        }
      ]
    },
    {
      "cell_type": "code",
      "metadata": {
        "colab": {
          "base_uri": "https://localhost:8080/",
          "height": 248
        },
        "id": "fRWcCDo-gM-9",
        "outputId": "23e99999-11e6-4afe-f586-3b82c1172733"
      },
      "source": [
        "z=data['Weather Condition'].value_counts()\n",
        "import matplotlib.pyplot as plt\n",
        "plt.pie(z,labels=z.index)\n",
        "plt.show()"
      ],
      "execution_count": null,
      "outputs": [
        {
          "output_type": "display_data",
          "data": {
            "image/png": "[encoded data removed]",
            "text/plain": [
              "<Figure size 432x288 with 1 Axes>"
            ]
          },
          "metadata": {}
        }
      ]
    },
    {
      "cell_type": "code",
      "metadata": {
        "colab": {
          "base_uri": "https://localhost:8080/"
        },
        "id": "ucSRiLIPgPr6",
        "outputId": "d5733ad4-0030-4fca-9f8f-b094be9a7968"
      },
      "source": [
        "data['Visibility_km'].value_counts()"
      ],
      "execution_count": null,
      "outputs": [
        {
          "output_type": "execute_result",
          "data": {
            "text/plain": [
              "25.0    3324\n",
              "48.3    2014\n",
              "24.1    1921\n",
              "19.3     281\n",
              "16.1     224\n",
              "9.7      181\n",
              "12.9     174\n",
              "6.4      129\n",
              "8.0      122\n",
              "4.8       79\n",
              "4.0       55\n",
              "2.4       50\n",
              "3.2       42\n",
              "11.3      36\n",
              "2.0       28\n",
              "1.2       28\n",
              "1.6       25\n",
              "0.6       16\n",
              "2.8       15\n",
              "1.0       11\n",
              "3.6       11\n",
              "0.2        8\n",
              "0.8        7\n",
              "0.4        3\n",
              "Name: Visibility_km, dtype: int64"
            ]
          },
          "metadata": {},
          "execution_count": 94
        }
      ]
    },
    {
      "cell_type": "code",
      "metadata": {
        "colab": {
          "base_uri": "https://localhost:8080/"
        },
        "id": "pCTzmZjMgTQQ",
        "outputId": "119029c1-7770-4b6c-8cc4-69678f3c84aa"
      },
      "source": [
        "s=data['Dew Point Temp_C'].value_counts()\n",
        "s"
      ],
      "execution_count": null,
      "outputs": [
        {
          "output_type": "execute_result",
          "data": {
            "text/plain": [
              "-0.9     48\n",
              " 12.9    48\n",
              " 9.9     47\n",
              " 10.9    47\n",
              " 12.3    45\n",
              "         ..\n",
              "-25.3     1\n",
              " 23.0     1\n",
              "-20.5     1\n",
              " 23.1     1\n",
              "-18.5     1\n",
              "Name: Dew Point Temp_C, Length: 489, dtype: int64"
            ]
          },
          "metadata": {},
          "execution_count": 95
        }
      ]
    },
    {
      "cell_type": "code",
      "metadata": {
        "id": "SuxNQjVfgXec"
      },
      "source": [
        "import matplotlib.pyplot as plt"
      ],
      "execution_count": null,
      "outputs": []
    },
    {
      "cell_type": "code",
      "metadata": {
        "colab": {
          "base_uri": "https://localhost:8080/",
          "height": 111
        },
        "id": "pl1aRMVZgakX",
        "outputId": "5e2cd87e-f3b2-496c-ac1d-ee378b765e12"
      },
      "source": [
        "data.head(2)"
      ],
      "execution_count": null,
      "outputs": [
        {
          "output_type": "execute_result",
          "data": {
            "text/html": [
              "<div>\n",
              "<style scoped>\n",
              "    .dataframe tbody tr th:only-of-type {\n",
              "        vertical-align: middle;\n",
              "    }\n",
              "\n",
              "    .dataframe tbody tr th {\n",
              "        vertical-align: top;\n",
              "    }\n",
              "\n",
              "    .dataframe thead th {\n",
              "        text-align: right;\n",
              "    }\n",
              "</style>\n",
              "<table border=\"1\" class=\"dataframe\">\n",
              "  <thead>\n",
              "    <tr style=\"text-align: right;\">\n",
              "      <th></th>\n",
              "      <th>Date/Time</th>\n",
              "      <th>Temp_C</th>\n",
              "      <th>Dew Point Temp_C</th>\n",
              "      <th>Rel Hum_%</th>\n",
              "      <th>Wind Speed_km/h</th>\n",
              "      <th>Visibility_km</th>\n",
              "      <th>Press_kPa</th>\n",
              "      <th>Weather Condition</th>\n",
              "    </tr>\n",
              "  </thead>\n",
              "  <tbody>\n",
              "    <tr>\n",
              "      <th>0</th>\n",
              "      <td>1/1/2012 0:00</td>\n",
              "      <td>-1.8</td>\n",
              "      <td>-3.9</td>\n",
              "      <td>86</td>\n",
              "      <td>4</td>\n",
              "      <td>8.0</td>\n",
              "      <td>101.24</td>\n",
              "      <td>Fog</td>\n",
              "    </tr>\n",
              "    <tr>\n",
              "      <th>1</th>\n",
              "      <td>1/1/2012 1:00</td>\n",
              "      <td>-1.8</td>\n",
              "      <td>-3.7</td>\n",
              "      <td>87</td>\n",
              "      <td>4</td>\n",
              "      <td>8.0</td>\n",
              "      <td>101.24</td>\n",
              "      <td>Fog</td>\n",
              "    </tr>\n",
              "  </tbody>\n",
              "</table>\n",
              "</div>"
            ],
            "text/plain": [
              "       Date/Time  Temp_C  ...  Press_kPa  Weather Condition\n",
              "0  1/1/2012 0:00    -1.8  ...     101.24                Fog\n",
              "1  1/1/2012 1:00    -1.8  ...     101.24                Fog\n",
              "\n",
              "[2 rows x 8 columns]"
            ]
          },
          "metadata": {},
          "execution_count": 49
        }
      ]
    },
    {
      "cell_type": "code",
      "metadata": {
        "colab": {
          "base_uri": "https://localhost:8080/",
          "height": 282
        },
        "id": "ejZJarURglw1",
        "outputId": "11fae596-8a15-4bdd-854d-11230645d898"
      },
      "source": [
        "plt.scatter(data['Temp_C'],data['Rel Hum_%'])"
      ],
      "execution_count": null,
      "outputs": [
        {
          "output_type": "execute_result",
          "data": {
            "text/plain": [
              "<matplotlib.collections.PathCollection at 0x7f5cdbf2a9d0>"
            ]
          },
          "metadata": {},
          "execution_count": 50
        },
        {
          "output_type": "display_data",
          "data": {
            "image/png": "[encoded data removed]",
            "text/plain": [
              "<Figure size 432x288 with 1 Axes>"
            ]
          },
          "metadata": {
            "needs_background": "light"
          }
        }
      ]
    },
    {
      "cell_type": "code",
      "metadata": {
        "colab": {
          "base_uri": "https://localhost:8080/",
          "height": 282
        },
        "id": "27Btw_Degobd",
        "outputId": "500dfada-d164-442c-a141-ac5eba47da60"
      },
      "source": [
        "plt.scatter(data['Temp_C'],data['Dew Point Temp_C'])"
      ],
      "execution_count": null,
      "outputs": [
        {
          "output_type": "execute_result",
          "data": {
            "text/plain": [
              "<matplotlib.collections.PathCollection at 0x7f5cd65b8810>"
            ]
          },
          "metadata": {},
          "execution_count": 100
        },
        {
          "output_type": "display_data",
          "data": {
            "image/png": "[encoded data removed]",
            "text/plain": [
              "<Figure size 432x288 with 1 Axes>"
            ]
          },
          "metadata": {
            "needs_background": "light"
          }
        }
      ]
    },
    {
      "cell_type": "code",
      "metadata": {
        "colab": {
          "base_uri": "https://localhost:8080/",
          "height": 282
        },
        "id": "wo3WFpADgpZT",
        "outputId": "c0580ede-887c-455d-b661-181258a15d0b"
      },
      "source": [
        "plt.scatter(data['Temp_C'],data['Press_kPa'])"
      ],
      "execution_count": null,
      "outputs": [
        {
          "output_type": "execute_result",
          "data": {
            "text/plain": [
              "<matplotlib.collections.PathCollection at 0x7f5cd5f645d0>"
            ]
          },
          "metadata": {},
          "execution_count": 101
        },
        {
          "output_type": "display_data",
          "data": {
            "image/png": "[encoded data removed]",
            "text/plain": [
              "<Figure size 432x288 with 1 Axes>"
            ]
          },
          "metadata": {
            "needs_background": "light"
          }
        }
      ]
    },
    {
      "cell_type": "code",
      "metadata": {
        "colab": {
          "base_uri": "https://localhost:8080/",
          "height": 283
        },
        "id": "RyarpQcWg0RZ",
        "outputId": "62b906ef-5425-47e5-96d9-1dafaa15da38"
      },
      "source": [
        "plt.scatter(data['Temp_C'],data['Visibility_km'])"
      ],
      "execution_count": null,
      "outputs": [
        {
          "output_type": "execute_result",
          "data": {
            "text/plain": [
              "<matplotlib.collections.PathCollection at 0x7f5cd5f45ad0>"
            ]
          },
          "metadata": {},
          "execution_count": 102
        },
        {
          "output_type": "display_data",
          "data": {
            "image/png": "[encoded data removed]",
            "text/plain": [
              "<Figure size 432x288 with 1 Axes>"
            ]
          },
          "metadata": {
            "needs_background": "light"
          }
        }
      ]
    }
  ]
}